{
 "cells": [
  {
   "cell_type": "code",
   "execution_count": 1,
   "id": "front-intranet",
   "metadata": {
    "ExecuteTime": {
     "end_time": "2021-09-23T06:18:28.142280Z",
     "start_time": "2021-09-23T06:18:27.845172Z"
    }
   },
   "outputs": [],
   "source": [
    "import pandas as pd\n",
    "import numpy as np"
   ]
  },
  {
   "cell_type": "code",
   "execution_count": 2,
   "id": "suffering-appliance",
   "metadata": {
    "ExecuteTime": {
     "end_time": "2021-09-23T06:18:28.167246Z",
     "start_time": "2021-09-23T06:18:28.144808Z"
    }
   },
   "outputs": [
    {
     "data": {
      "text/html": [
       "<div>\n",
       "<style scoped>\n",
       "    .dataframe tbody tr th:only-of-type {\n",
       "        vertical-align: middle;\n",
       "    }\n",
       "\n",
       "    .dataframe tbody tr th {\n",
       "        vertical-align: top;\n",
       "    }\n",
       "\n",
       "    .dataframe thead th {\n",
       "        text-align: right;\n",
       "    }\n",
       "</style>\n",
       "<table border=\"1\" class=\"dataframe\">\n",
       "  <thead>\n",
       "    <tr style=\"text-align: right;\">\n",
       "      <th></th>\n",
       "      <th>Hours</th>\n",
       "      <th>Score</th>\n",
       "    </tr>\n",
       "  </thead>\n",
       "  <tbody>\n",
       "    <tr>\n",
       "      <th>0</th>\n",
       "      <td>1</td>\n",
       "      <td>48</td>\n",
       "    </tr>\n",
       "    <tr>\n",
       "      <th>1</th>\n",
       "      <td>1</td>\n",
       "      <td>78</td>\n",
       "    </tr>\n",
       "    <tr>\n",
       "      <th>2</th>\n",
       "      <td>1</td>\n",
       "      <td>72</td>\n",
       "    </tr>\n",
       "    <tr>\n",
       "      <th>3</th>\n",
       "      <td>2</td>\n",
       "      <td>70</td>\n",
       "    </tr>\n",
       "    <tr>\n",
       "      <th>4</th>\n",
       "      <td>2</td>\n",
       "      <td>66</td>\n",
       "    </tr>\n",
       "    <tr>\n",
       "      <th>5</th>\n",
       "      <td>3</td>\n",
       "      <td>92</td>\n",
       "    </tr>\n",
       "    <tr>\n",
       "      <th>6</th>\n",
       "      <td>4</td>\n",
       "      <td>93</td>\n",
       "    </tr>\n",
       "    <tr>\n",
       "      <th>7</th>\n",
       "      <td>4</td>\n",
       "      <td>75</td>\n",
       "    </tr>\n",
       "    <tr>\n",
       "      <th>8</th>\n",
       "      <td>4</td>\n",
       "      <td>75</td>\n",
       "    </tr>\n",
       "    <tr>\n",
       "      <th>9</th>\n",
       "      <td>5</td>\n",
       "      <td>80</td>\n",
       "    </tr>\n",
       "    <tr>\n",
       "      <th>10</th>\n",
       "      <td>5</td>\n",
       "      <td>95</td>\n",
       "    </tr>\n",
       "    <tr>\n",
       "      <th>11</th>\n",
       "      <td>5</td>\n",
       "      <td>97</td>\n",
       "    </tr>\n",
       "    <tr>\n",
       "      <th>12</th>\n",
       "      <td>6</td>\n",
       "      <td>90</td>\n",
       "    </tr>\n",
       "    <tr>\n",
       "      <th>13</th>\n",
       "      <td>6</td>\n",
       "      <td>96</td>\n",
       "    </tr>\n",
       "    <tr>\n",
       "      <th>14</th>\n",
       "      <td>7</td>\n",
       "      <td>99</td>\n",
       "    </tr>\n",
       "    <tr>\n",
       "      <th>15</th>\n",
       "      <td>8</td>\n",
       "      <td>99</td>\n",
       "    </tr>\n",
       "  </tbody>\n",
       "</table>\n",
       "</div>"
      ],
      "text/plain": [
       "    Hours  Score\n",
       "0       1     48\n",
       "1       1     78\n",
       "2       1     72\n",
       "3       2     70\n",
       "4       2     66\n",
       "5       3     92\n",
       "6       4     93\n",
       "7       4     75\n",
       "8       4     75\n",
       "9       5     80\n",
       "10      5     95\n",
       "11      5     97\n",
       "12      6     90\n",
       "13      6     96\n",
       "14      7     99\n",
       "15      8     99"
      ]
     },
     "execution_count": 2,
     "metadata": {},
     "output_type": "execute_result"
    }
   ],
   "source": [
    "db = pd.read_csv('lec07.csv')\n",
    "db"
   ]
  },
  {
   "cell_type": "code",
   "execution_count": 3,
   "id": "rational-monitor",
   "metadata": {
    "ExecuteTime": {
     "end_time": "2021-09-23T06:18:28.629444Z",
     "start_time": "2021-09-23T06:18:28.169908Z"
    }
   },
   "outputs": [],
   "source": [
    "from sklearn.linear_model import LinearRegression"
   ]
  },
  {
   "cell_type": "code",
   "execution_count": 4,
   "id": "sapphire-clerk",
   "metadata": {
    "ExecuteTime": {
     "end_time": "2021-09-23T06:18:28.637292Z",
     "start_time": "2021-09-23T06:18:28.632579Z"
    }
   },
   "outputs": [],
   "source": [
    "length = 16\n",
    "X = np.array(db['Hours']).reshape(length, 1)\n",
    "y = np.array(db['Score']).reshape(length, 1)"
   ]
  },
  {
   "cell_type": "code",
   "execution_count": 5,
   "id": "olympic-kitchen",
   "metadata": {
    "ExecuteTime": {
     "end_time": "2021-09-23T06:18:28.646111Z",
     "start_time": "2021-09-23T06:18:28.639882Z"
    }
   },
   "outputs": [],
   "source": [
    "reg = LinearRegression().fit(X, y)"
   ]
  },
  {
   "cell_type": "code",
   "execution_count": 6,
   "id": "addressed-romantic",
   "metadata": {
    "ExecuteTime": {
     "end_time": "2021-09-23T06:18:28.654911Z",
     "start_time": "2021-09-23T06:18:28.649209Z"
    }
   },
   "outputs": [
    {
     "data": {
      "text/plain": [
       "0.6202557608810646"
      ]
     },
     "execution_count": 6,
     "metadata": {},
     "output_type": "execute_result"
    }
   ],
   "source": [
    "reg.score(X, y)"
   ]
  },
  {
   "cell_type": "code",
   "execution_count": 7,
   "id": "green-combat",
   "metadata": {
    "ExecuteTime": {
     "end_time": "2021-09-23T06:18:28.660721Z",
     "start_time": "2021-09-23T06:18:28.657022Z"
    }
   },
   "outputs": [
    {
     "data": {
      "text/plain": [
       "array([[5.26388889]])"
      ]
     },
     "execution_count": 7,
     "metadata": {},
     "output_type": "execute_result"
    }
   ],
   "source": [
    "reg.coef_"
   ]
  },
  {
   "cell_type": "code",
   "execution_count": 8,
   "id": "sunrise-commerce",
   "metadata": {
    "ExecuteTime": {
     "end_time": "2021-09-23T06:18:28.670339Z",
     "start_time": "2021-09-23T06:18:28.664977Z"
    }
   },
   "outputs": [
    {
     "data": {
      "text/plain": [
       "array([61.75694444])"
      ]
     },
     "execution_count": 8,
     "metadata": {},
     "output_type": "execute_result"
    }
   ],
   "source": [
    "reg.intercept_"
   ]
  },
  {
   "cell_type": "code",
   "execution_count": 9,
   "id": "western-atlantic",
   "metadata": {
    "ExecuteTime": {
     "end_time": "2021-09-23T06:18:28.923590Z",
     "start_time": "2021-09-23T06:18:28.673660Z"
    }
   },
   "outputs": [],
   "source": [
    "import matplotlib.pyplot as plt"
   ]
  },
  {
   "cell_type": "code",
   "execution_count": 10,
   "id": "hourly-convertible",
   "metadata": {
    "ExecuteTime": {
     "end_time": "2021-09-23T06:18:29.092709Z",
     "start_time": "2021-09-23T06:18:28.926851Z"
    }
   },
   "outputs": [
    {
     "data": {
      "image/png": "[encoded data removed]",
      "text/plain": [
       "<Figure size 432x288 with 1 Axes>"
      ]
     },
     "metadata": {
      "needs_background": "light"
     },
     "output_type": "display_data"
    }
   ],
   "source": [
    "plt.scatter(X, y,  color='black')\n",
    "plt.plot(X, reg.predict(X), color='blue', linewidth=3)\n",
    "plt.show()"
   ]
  },
  {
   "cell_type": "code",
   "execution_count": 11,
   "id": "toxic-blake",
   "metadata": {
    "ExecuteTime": {
     "end_time": "2021-09-23T06:18:29.350576Z",
     "start_time": "2021-09-23T06:18:29.094927Z"
    }
   },
   "outputs": [
    {
     "name": "stderr",
     "output_type": "stream",
     "text": [
      "/Users/wendellwang/Developer/ML/lib/python3.9/site-packages/scipy/stats/stats.py:1603: UserWarning: kurtosistest only valid for n>=20 ... continuing anyway, n=16\n",
      "  warnings.warn(\"kurtosistest only valid for n>=20 ... continuing \"\n"
     ]
    },
    {
     "data": {
      "text/html": [
       "<table class=\"simpletable\">\n",
       "<caption>OLS Regression Results</caption>\n",
       "<tr>\n",
       "  <th>Dep. Variable:</th>            <td>y</td>        <th>  R-squared:         </th> <td>   0.620</td>\n",
       "</tr>\n",
       "<tr>\n",
       "  <th>Model:</th>                   <td>OLS</td>       <th>  Adj. R-squared:    </th> <td>   0.593</td>\n",
       "</tr>\n",
       "<tr>\n",
       "  <th>Method:</th>             <td>Least Squares</td>  <th>  F-statistic:       </th> <td>   22.87</td>\n",
       "</tr>\n",
       "<tr>\n",
       "  <th>Date:</th>             <td>Thu, 23 Sep 2021</td> <th>  Prob (F-statistic):</th> <td>0.000292</td>\n",
       "</tr>\n",
       "<tr>\n",
       "  <th>Time:</th>                 <td>14:18:29</td>     <th>  Log-Likelihood:    </th> <td> -57.384</td>\n",
       "</tr>\n",
       "<tr>\n",
       "  <th>No. Observations:</th>      <td>    16</td>      <th>  AIC:               </th> <td>   118.8</td>\n",
       "</tr>\n",
       "<tr>\n",
       "  <th>Df Residuals:</th>          <td>    14</td>      <th>  BIC:               </th> <td>   120.3</td>\n",
       "</tr>\n",
       "<tr>\n",
       "  <th>Df Model:</th>              <td>     1</td>      <th>                     </th>     <td> </td>   \n",
       "</tr>\n",
       "<tr>\n",
       "  <th>Covariance Type:</th>      <td>nonrobust</td>    <th>                     </th>     <td> </td>   \n",
       "</tr>\n",
       "</table>\n",
       "<table class=\"simpletable\">\n",
       "<tr>\n",
       "    <td></td>       <th>coef</th>     <th>std err</th>      <th>t</th>      <th>P>|t|</th>  <th>[0.025</th>    <th>0.975]</th>  \n",
       "</tr>\n",
       "<tr>\n",
       "  <th>const</th> <td>   61.7569</td> <td>    4.984</td> <td>   12.391</td> <td> 0.000</td> <td>   51.067</td> <td>   72.447</td>\n",
       "</tr>\n",
       "<tr>\n",
       "  <th>x1</th>    <td>    5.2639</td> <td>    1.101</td> <td>    4.782</td> <td> 0.000</td> <td>    2.903</td> <td>    7.625</td>\n",
       "</tr>\n",
       "</table>\n",
       "<table class=\"simpletable\">\n",
       "<tr>\n",
       "  <th>Omnibus:</th>       <td> 0.205</td> <th>  Durbin-Watson:     </th> <td>   1.822</td>\n",
       "</tr>\n",
       "<tr>\n",
       "  <th>Prob(Omnibus):</th> <td> 0.902</td> <th>  Jarque-Bera (JB):  </th> <td>   0.358</td>\n",
       "</tr>\n",
       "<tr>\n",
       "  <th>Skew:</th>          <td>-0.205</td> <th>  Prob(JB):          </th> <td>   0.836</td>\n",
       "</tr>\n",
       "<tr>\n",
       "  <th>Kurtosis:</th>      <td> 2.393</td> <th>  Cond. No.          </th> <td>    10.0</td>\n",
       "</tr>\n",
       "</table><br/><br/>Notes:<br/>[1] Standard Errors assume that the covariance matrix of the errors is correctly specified."
      ],
      "text/plain": [
       "<class 'statsmodels.iolib.summary.Summary'>\n",
       "\"\"\"\n",
       "                            OLS Regression Results                            \n",
       "==============================================================================\n",
       "Dep. Variable:                      y   R-squared:                       0.620\n",
       "Model:                            OLS   Adj. R-squared:                  0.593\n",
       "Method:                 Least Squares   F-statistic:                     22.87\n",
       "Date:                Thu, 23 Sep 2021   Prob (F-statistic):           0.000292\n",
       "Time:                        14:18:29   Log-Likelihood:                -57.384\n",
       "No. Observations:                  16   AIC:                             118.8\n",
       "Df Residuals:                      14   BIC:                             120.3\n",
       "Df Model:                           1                                         \n",
       "Covariance Type:            nonrobust                                         \n",
       "==============================================================================\n",
       "                 coef    std err          t      P>|t|      [0.025      0.975]\n",
       "------------------------------------------------------------------------------\n",
       "const         61.7569      4.984     12.391      0.000      51.067      72.447\n",
       "x1             5.2639      1.101      4.782      0.000       2.903       7.625\n",
       "==============================================================================\n",
       "Omnibus:                        0.205   Durbin-Watson:                   1.822\n",
       "Prob(Omnibus):                  0.902   Jarque-Bera (JB):                0.358\n",
       "Skew:                          -0.205   Prob(JB):                        0.836\n",
       "Kurtosis:                       2.393   Cond. No.                         10.0\n",
       "==============================================================================\n",
       "\n",
       "Notes:\n",
       "[1] Standard Errors assume that the covariance matrix of the errors is correctly specified.\n",
       "\"\"\""
      ]
     },
     "execution_count": 11,
     "metadata": {},
     "output_type": "execute_result"
    }
   ],
   "source": [
    "import statsmodels.api  as sm\n",
    "y_hat = reg.predict(X)\n",
    "Xm = sm.add_constant(X)\n",
    "Ym = y\n",
    "Km = sm.OLS(Ym,Xm ).fit()\n",
    "Km.summary()"
   ]
  },
  {
   "cell_type": "code",
   "execution_count": 12,
   "id": "confident-consent",
   "metadata": {
    "ExecuteTime": {
     "end_time": "2021-09-23T06:18:29.372090Z",
     "start_time": "2021-09-23T06:18:29.352992Z"
    }
   },
   "outputs": [
    {
     "name": "stderr",
     "output_type": "stream",
     "text": [
      "/Users/wendellwang/Developer/ML/lib/python3.9/site-packages/scipy/stats/stats.py:1603: UserWarning: kurtosistest only valid for n>=20 ... continuing anyway, n=16\n",
      "  warnings.warn(\"kurtosistest only valid for n>=20 ... continuing \"\n"
     ]
    },
    {
     "data": {
      "text/html": [
       "<table class=\"simpletable\">\n",
       "<caption>WLS Regression Results</caption>\n",
       "<tr>\n",
       "  <th>Dep. Variable:</th>            <td>y</td>        <th>  R-squared:         </th> <td>   0.620</td>\n",
       "</tr>\n",
       "<tr>\n",
       "  <th>Model:</th>                   <td>WLS</td>       <th>  Adj. R-squared:    </th> <td>   0.593</td>\n",
       "</tr>\n",
       "<tr>\n",
       "  <th>Method:</th>             <td>Least Squares</td>  <th>  F-statistic:       </th> <td>   22.87</td>\n",
       "</tr>\n",
       "<tr>\n",
       "  <th>Date:</th>             <td>Thu, 23 Sep 2021</td> <th>  Prob (F-statistic):</th> <td>0.000292</td>\n",
       "</tr>\n",
       "<tr>\n",
       "  <th>Time:</th>                 <td>14:18:29</td>     <th>  Log-Likelihood:    </th> <td> -57.384</td>\n",
       "</tr>\n",
       "<tr>\n",
       "  <th>No. Observations:</th>      <td>    16</td>      <th>  AIC:               </th> <td>   118.8</td>\n",
       "</tr>\n",
       "<tr>\n",
       "  <th>Df Residuals:</th>          <td>    14</td>      <th>  BIC:               </th> <td>   120.3</td>\n",
       "</tr>\n",
       "<tr>\n",
       "  <th>Df Model:</th>              <td>     1</td>      <th>                     </th>     <td> </td>   \n",
       "</tr>\n",
       "<tr>\n",
       "  <th>Covariance Type:</th>      <td>nonrobust</td>    <th>                     </th>     <td> </td>   \n",
       "</tr>\n",
       "</table>\n",
       "<table class=\"simpletable\">\n",
       "<tr>\n",
       "    <td></td>       <th>coef</th>     <th>std err</th>      <th>t</th>      <th>P>|t|</th>  <th>[0.025</th>    <th>0.975]</th>  \n",
       "</tr>\n",
       "<tr>\n",
       "  <th>const</th> <td>   61.7569</td> <td>    4.984</td> <td>   12.391</td> <td> 0.000</td> <td>   51.067</td> <td>   72.447</td>\n",
       "</tr>\n",
       "<tr>\n",
       "  <th>x1</th>    <td>    5.2639</td> <td>    1.101</td> <td>    4.782</td> <td> 0.000</td> <td>    2.903</td> <td>    7.625</td>\n",
       "</tr>\n",
       "</table>\n",
       "<table class=\"simpletable\">\n",
       "<tr>\n",
       "  <th>Omnibus:</th>       <td> 0.205</td> <th>  Durbin-Watson:     </th> <td>   1.822</td>\n",
       "</tr>\n",
       "<tr>\n",
       "  <th>Prob(Omnibus):</th> <td> 0.902</td> <th>  Jarque-Bera (JB):  </th> <td>   0.358</td>\n",
       "</tr>\n",
       "<tr>\n",
       "  <th>Skew:</th>          <td>-0.205</td> <th>  Prob(JB):          </th> <td>   0.836</td>\n",
       "</tr>\n",
       "<tr>\n",
       "  <th>Kurtosis:</th>      <td> 2.393</td> <th>  Cond. No.          </th> <td>    10.0</td>\n",
       "</tr>\n",
       "</table><br/><br/>Notes:<br/>[1] Standard Errors assume that the covariance matrix of the errors is correctly specified."
      ],
      "text/plain": [
       "<class 'statsmodels.iolib.summary.Summary'>\n",
       "\"\"\"\n",
       "                            WLS Regression Results                            \n",
       "==============================================================================\n",
       "Dep. Variable:                      y   R-squared:                       0.620\n",
       "Model:                            WLS   Adj. R-squared:                  0.593\n",
       "Method:                 Least Squares   F-statistic:                     22.87\n",
       "Date:                Thu, 23 Sep 2021   Prob (F-statistic):           0.000292\n",
       "Time:                        14:18:29   Log-Likelihood:                -57.384\n",
       "No. Observations:                  16   AIC:                             118.8\n",
       "Df Residuals:                      14   BIC:                             120.3\n",
       "Df Model:                           1                                         \n",
       "Covariance Type:            nonrobust                                         \n",
       "==============================================================================\n",
       "                 coef    std err          t      P>|t|      [0.025      0.975]\n",
       "------------------------------------------------------------------------------\n",
       "const         61.7569      4.984     12.391      0.000      51.067      72.447\n",
       "x1             5.2639      1.101      4.782      0.000       2.903       7.625\n",
       "==============================================================================\n",
       "Omnibus:                        0.205   Durbin-Watson:                   1.822\n",
       "Prob(Omnibus):                  0.902   Jarque-Bera (JB):                0.358\n",
       "Skew:                          -0.205   Prob(JB):                        0.836\n",
       "Kurtosis:                       2.393   Cond. No.                         10.0\n",
       "==============================================================================\n",
       "\n",
       "Notes:\n",
       "[1] Standard Errors assume that the covariance matrix of the errors is correctly specified.\n",
       "\"\"\""
      ]
     },
     "execution_count": 12,
     "metadata": {},
     "output_type": "execute_result"
    }
   ],
   "source": [
    "Xm = sm.add_constant(X)\n",
    "Ym = y\n",
    "Km = sm.WLS(Ym,Xm ).fit()\n",
    "Km.summary()"
   ]
  },
  {
   "cell_type": "markdown",
   "id": "assigned-feelings",
   "metadata": {},
   "source": [
    "For Weight Function:\n",
    "$$\n",
    "\\begin{aligned}\n",
    "\tw = \\frac{1}{\\hat{y}^2}\n",
    "\\end{aligned}\n",
    "$$"
   ]
  },
  {
   "cell_type": "code",
   "execution_count": 13,
   "id": "joined-interstate",
   "metadata": {
    "ExecuteTime": {
     "end_time": "2021-09-23T06:18:29.398392Z",
     "start_time": "2021-09-23T06:18:29.374983Z"
    }
   },
   "outputs": [
    {
     "name": "stderr",
     "output_type": "stream",
     "text": [
      "/Users/wendellwang/Developer/ML/lib/python3.9/site-packages/scipy/stats/stats.py:1603: UserWarning: kurtosistest only valid for n>=20 ... continuing anyway, n=16\n",
      "  warnings.warn(\"kurtosistest only valid for n>=20 ... continuing \"\n"
     ]
    },
    {
     "data": {
      "text/html": [
       "<table class=\"simpletable\">\n",
       "<caption>WLS Regression Results</caption>\n",
       "<tr>\n",
       "  <th>Dep. Variable:</th>            <td>y</td>        <th>  R-squared:         </th> <td>   0.591</td>\n",
       "</tr>\n",
       "<tr>\n",
       "  <th>Model:</th>                   <td>WLS</td>       <th>  Adj. R-squared:    </th> <td>   0.562</td>\n",
       "</tr>\n",
       "<tr>\n",
       "  <th>Method:</th>             <td>Least Squares</td>  <th>  F-statistic:       </th> <td>   20.26</td>\n",
       "</tr>\n",
       "<tr>\n",
       "  <th>Date:</th>             <td>Thu, 23 Sep 2021</td> <th>  Prob (F-statistic):</th> <td>0.000499</td>\n",
       "</tr>\n",
       "<tr>\n",
       "  <th>Time:</th>                 <td>14:18:29</td>     <th>  Log-Likelihood:    </th> <td> -58.851</td>\n",
       "</tr>\n",
       "<tr>\n",
       "  <th>No. Observations:</th>      <td>    16</td>      <th>  AIC:               </th> <td>   121.7</td>\n",
       "</tr>\n",
       "<tr>\n",
       "  <th>Df Residuals:</th>          <td>    14</td>      <th>  BIC:               </th> <td>   123.2</td>\n",
       "</tr>\n",
       "<tr>\n",
       "  <th>Df Model:</th>              <td>     1</td>      <th>                     </th>     <td> </td>   \n",
       "</tr>\n",
       "<tr>\n",
       "  <th>Covariance Type:</th>      <td>nonrobust</td>    <th>                     </th>     <td> </td>   \n",
       "</tr>\n",
       "</table>\n",
       "<table class=\"simpletable\">\n",
       "<tr>\n",
       "    <td></td>       <th>coef</th>     <th>std err</th>      <th>t</th>      <th>P>|t|</th>  <th>[0.025</th>    <th>0.975]</th>  \n",
       "</tr>\n",
       "<tr>\n",
       "  <th>const</th> <td>   61.0397</td> <td>    4.852</td> <td>   12.580</td> <td> 0.000</td> <td>   50.633</td> <td>   71.446</td>\n",
       "</tr>\n",
       "<tr>\n",
       "  <th>x1</th>    <td>    5.4496</td> <td>    1.211</td> <td>    4.501</td> <td> 0.000</td> <td>    2.853</td> <td>    8.047</td>\n",
       "</tr>\n",
       "</table>\n",
       "<table class=\"simpletable\">\n",
       "<tr>\n",
       "  <th>Omnibus:</th>       <td> 0.816</td> <th>  Durbin-Watson:     </th> <td>   1.856</td>\n",
       "</tr>\n",
       "<tr>\n",
       "  <th>Prob(Omnibus):</th> <td> 0.665</td> <th>  Jarque-Bera (JB):  </th> <td>   0.321</td>\n",
       "</tr>\n",
       "<tr>\n",
       "  <th>Skew:</th>          <td>-0.344</td> <th>  Prob(JB):          </th> <td>   0.852</td>\n",
       "</tr>\n",
       "<tr>\n",
       "  <th>Kurtosis:</th>      <td> 2.905</td> <th>  Cond. No.          </th> <td>    8.10</td>\n",
       "</tr>\n",
       "</table><br/><br/>Notes:<br/>[1] Standard Errors assume that the covariance matrix of the errors is correctly specified."
      ],
      "text/plain": [
       "<class 'statsmodels.iolib.summary.Summary'>\n",
       "\"\"\"\n",
       "                            WLS Regression Results                            \n",
       "==============================================================================\n",
       "Dep. Variable:                      y   R-squared:                       0.591\n",
       "Model:                            WLS   Adj. R-squared:                  0.562\n",
       "Method:                 Least Squares   F-statistic:                     20.26\n",
       "Date:                Thu, 23 Sep 2021   Prob (F-statistic):           0.000499\n",
       "Time:                        14:18:29   Log-Likelihood:                -58.851\n",
       "No. Observations:                  16   AIC:                             121.7\n",
       "Df Residuals:                      14   BIC:                             123.2\n",
       "Df Model:                           1                                         \n",
       "Covariance Type:            nonrobust                                         \n",
       "==============================================================================\n",
       "                 coef    std err          t      P>|t|      [0.025      0.975]\n",
       "------------------------------------------------------------------------------\n",
       "const         61.0397      4.852     12.580      0.000      50.633      71.446\n",
       "x1             5.4496      1.211      4.501      0.000       2.853       8.047\n",
       "==============================================================================\n",
       "Omnibus:                        0.816   Durbin-Watson:                   1.856\n",
       "Prob(Omnibus):                  0.665   Jarque-Bera (JB):                0.321\n",
       "Skew:                          -0.344   Prob(JB):                        0.852\n",
       "Kurtosis:                       2.905   Cond. No.                         8.10\n",
       "==============================================================================\n",
       "\n",
       "Notes:\n",
       "[1] Standard Errors assume that the covariance matrix of the errors is correctly specified.\n",
       "\"\"\""
      ]
     },
     "execution_count": 13,
     "metadata": {},
     "output_type": "execute_result"
    }
   ],
   "source": [
    "Xm = sm.add_constant(X)\n",
    "Ym = y\n",
    "Km = sm.WLS(Ym,Xm,weights=1.0 / (y_hat ** 2)).fit()\n",
    "Km.summary()"
   ]
  },
  {
   "cell_type": "markdown",
   "id": "visible-antique",
   "metadata": {},
   "source": [
    "For Weight Function:\n",
    "$$\n",
    "\\begin{aligned}\n",
    "\tw = \\frac{1}{\\hat{y}}\n",
    "\\end{aligned}\n",
    "$$"
   ]
  },
  {
   "cell_type": "code",
   "execution_count": 14,
   "id": "blond-check",
   "metadata": {
    "ExecuteTime": {
     "end_time": "2021-09-23T06:18:29.428656Z",
     "start_time": "2021-09-23T06:18:29.402839Z"
    }
   },
   "outputs": [
    {
     "name": "stderr",
     "output_type": "stream",
     "text": [
      "/Users/wendellwang/Developer/ML/lib/python3.9/site-packages/scipy/stats/stats.py:1603: UserWarning: kurtosistest only valid for n>=20 ... continuing anyway, n=16\n",
      "  warnings.warn(\"kurtosistest only valid for n>=20 ... continuing \"\n"
     ]
    },
    {
     "data": {
      "text/html": [
       "<table class=\"simpletable\">\n",
       "<caption>WLS Regression Results</caption>\n",
       "<tr>\n",
       "  <th>Dep. Variable:</th>            <td>y</td>        <th>  R-squared:         </th> <td>   0.608</td>\n",
       "</tr>\n",
       "<tr>\n",
       "  <th>Model:</th>                   <td>WLS</td>       <th>  Adj. R-squared:    </th> <td>   0.580</td>\n",
       "</tr>\n",
       "<tr>\n",
       "  <th>Method:</th>             <td>Least Squares</td>  <th>  F-statistic:       </th> <td>   21.72</td>\n",
       "</tr>\n",
       "<tr>\n",
       "  <th>Date:</th>             <td>Thu, 23 Sep 2021</td> <th>  Prob (F-statistic):</th> <td>0.000368</td>\n",
       "</tr>\n",
       "<tr>\n",
       "  <th>Time:</th>                 <td>14:18:29</td>     <th>  Log-Likelihood:    </th> <td> -58.067</td>\n",
       "</tr>\n",
       "<tr>\n",
       "  <th>No. Observations:</th>      <td>    16</td>      <th>  AIC:               </th> <td>   120.1</td>\n",
       "</tr>\n",
       "<tr>\n",
       "  <th>Df Residuals:</th>          <td>    14</td>      <th>  BIC:               </th> <td>   121.7</td>\n",
       "</tr>\n",
       "<tr>\n",
       "  <th>Df Model:</th>              <td>     1</td>      <th>                     </th>     <td> </td>   \n",
       "</tr>\n",
       "<tr>\n",
       "  <th>Covariance Type:</th>      <td>nonrobust</td>    <th>                     </th>     <td> </td>   \n",
       "</tr>\n",
       "</table>\n",
       "<table class=\"simpletable\">\n",
       "<tr>\n",
       "    <td></td>       <th>coef</th>     <th>std err</th>      <th>t</th>      <th>P>|t|</th>  <th>[0.025</th>    <th>0.975]</th>  \n",
       "</tr>\n",
       "<tr>\n",
       "  <th>const</th> <td>   61.3708</td> <td>    4.911</td> <td>   12.497</td> <td> 0.000</td> <td>   50.838</td> <td>   71.903</td>\n",
       "</tr>\n",
       "<tr>\n",
       "  <th>x1</th>    <td>    5.3604</td> <td>    1.150</td> <td>    4.660</td> <td> 0.000</td> <td>    2.893</td> <td>    7.827</td>\n",
       "</tr>\n",
       "</table>\n",
       "<table class=\"simpletable\">\n",
       "<tr>\n",
       "  <th>Omnibus:</th>       <td> 0.365</td> <th>  Durbin-Watson:     </th> <td>   1.839</td>\n",
       "</tr>\n",
       "<tr>\n",
       "  <th>Prob(Omnibus):</th> <td> 0.833</td> <th>  Jarque-Bera (JB):  </th> <td>   0.289</td>\n",
       "</tr>\n",
       "<tr>\n",
       "  <th>Skew:</th>          <td>-0.274</td> <th>  Prob(JB):          </th> <td>   0.865</td>\n",
       "</tr>\n",
       "<tr>\n",
       "  <th>Kurtosis:</th>      <td> 2.635</td> <th>  Cond. No.          </th> <td>    9.01</td>\n",
       "</tr>\n",
       "</table><br/><br/>Notes:<br/>[1] Standard Errors assume that the covariance matrix of the errors is correctly specified."
      ],
      "text/plain": [
       "<class 'statsmodels.iolib.summary.Summary'>\n",
       "\"\"\"\n",
       "                            WLS Regression Results                            \n",
       "==============================================================================\n",
       "Dep. Variable:                      y   R-squared:                       0.608\n",
       "Model:                            WLS   Adj. R-squared:                  0.580\n",
       "Method:                 Least Squares   F-statistic:                     21.72\n",
       "Date:                Thu, 23 Sep 2021   Prob (F-statistic):           0.000368\n",
       "Time:                        14:18:29   Log-Likelihood:                -58.067\n",
       "No. Observations:                  16   AIC:                             120.1\n",
       "Df Residuals:                      14   BIC:                             121.7\n",
       "Df Model:                           1                                         \n",
       "Covariance Type:            nonrobust                                         \n",
       "==============================================================================\n",
       "                 coef    std err          t      P>|t|      [0.025      0.975]\n",
       "------------------------------------------------------------------------------\n",
       "const         61.3708      4.911     12.497      0.000      50.838      71.903\n",
       "x1             5.3604      1.150      4.660      0.000       2.893       7.827\n",
       "==============================================================================\n",
       "Omnibus:                        0.365   Durbin-Watson:                   1.839\n",
       "Prob(Omnibus):                  0.833   Jarque-Bera (JB):                0.289\n",
       "Skew:                          -0.274   Prob(JB):                        0.865\n",
       "Kurtosis:                       2.635   Cond. No.                         9.01\n",
       "==============================================================================\n",
       "\n",
       "Notes:\n",
       "[1] Standard Errors assume that the covariance matrix of the errors is correctly specified.\n",
       "\"\"\""
      ]
     },
     "execution_count": 14,
     "metadata": {},
     "output_type": "execute_result"
    }
   ],
   "source": [
    "Xm = sm.add_constant(X)\n",
    "Ym = y\n",
    "Km = sm.WLS(Ym,Xm,weights=1.0 / (y_hat)).fit()\n",
    "Km.summary()"
   ]
  },
  {
   "cell_type": "markdown",
   "id": "removable-budapest",
   "metadata": {},
   "source": [
    "For Weight Function:\n",
    "$$\n",
    "\\begin{aligned}\n",
    "\tw = \\frac{1}{(y-\\hat{y})^2}\n",
    "\\end{aligned}\n",
    "$$"
   ]
  },
  {
   "cell_type": "code",
   "execution_count": 15,
   "id": "beginning-mitchell",
   "metadata": {
    "ExecuteTime": {
     "end_time": "2021-09-23T06:18:29.457252Z",
     "start_time": "2021-09-23T06:18:29.432413Z"
    }
   },
   "outputs": [
    {
     "name": "stderr",
     "output_type": "stream",
     "text": [
      "/Users/wendellwang/Developer/ML/lib/python3.9/site-packages/scipy/stats/stats.py:1603: UserWarning: kurtosistest only valid for n>=20 ... continuing anyway, n=16\n",
      "  warnings.warn(\"kurtosistest only valid for n>=20 ... continuing \"\n"
     ]
    },
    {
     "data": {
      "text/html": [
       "<table class=\"simpletable\">\n",
       "<caption>WLS Regression Results</caption>\n",
       "<tr>\n",
       "  <th>Dep. Variable:</th>            <td>y</td>        <th>  R-squared:         </th> <td>   0.939</td>\n",
       "</tr>\n",
       "<tr>\n",
       "  <th>Model:</th>                   <td>WLS</td>       <th>  Adj. R-squared:    </th> <td>   0.935</td>\n",
       "</tr>\n",
       "<tr>\n",
       "  <th>Method:</th>             <td>Least Squares</td>  <th>  F-statistic:       </th> <td>   217.4</td>\n",
       "</tr>\n",
       "<tr>\n",
       "  <th>Date:</th>             <td>Thu, 23 Sep 2021</td> <th>  Prob (F-statistic):</th> <td>6.39e-10</td>\n",
       "</tr>\n",
       "<tr>\n",
       "  <th>Time:</th>                 <td>14:18:29</td>     <th>  Log-Likelihood:    </th> <td> -49.949</td>\n",
       "</tr>\n",
       "<tr>\n",
       "  <th>No. Observations:</th>      <td>    16</td>      <th>  AIC:               </th> <td>   103.9</td>\n",
       "</tr>\n",
       "<tr>\n",
       "  <th>Df Residuals:</th>          <td>    14</td>      <th>  BIC:               </th> <td>   105.4</td>\n",
       "</tr>\n",
       "<tr>\n",
       "  <th>Df Model:</th>              <td>     1</td>      <th>                     </th>     <td> </td>   \n",
       "</tr>\n",
       "<tr>\n",
       "  <th>Covariance Type:</th>      <td>nonrobust</td>    <th>                     </th>     <td> </td>   \n",
       "</tr>\n",
       "</table>\n",
       "<table class=\"simpletable\">\n",
       "<tr>\n",
       "    <td></td>       <th>coef</th>     <th>std err</th>      <th>t</th>      <th>P>|t|</th>  <th>[0.025</th>    <th>0.975]</th>  \n",
       "</tr>\n",
       "<tr>\n",
       "  <th>const</th> <td>   60.5362</td> <td>    2.540</td> <td>   23.837</td> <td> 0.000</td> <td>   55.089</td> <td>   65.983</td>\n",
       "</tr>\n",
       "<tr>\n",
       "  <th>x1</th>    <td>    5.4891</td> <td>    0.372</td> <td>   14.743</td> <td> 0.000</td> <td>    4.691</td> <td>    6.288</td>\n",
       "</tr>\n",
       "</table>\n",
       "<table class=\"simpletable\">\n",
       "<tr>\n",
       "  <th>Omnibus:</th>       <td>19.645</td> <th>  Durbin-Watson:     </th> <td>   1.981</td>\n",
       "</tr>\n",
       "<tr>\n",
       "  <th>Prob(Omnibus):</th> <td> 0.000</td> <th>  Jarque-Bera (JB):  </th> <td>   2.386</td>\n",
       "</tr>\n",
       "<tr>\n",
       "  <th>Skew:</th>          <td> 0.098</td> <th>  Prob(JB):          </th> <td>   0.303</td>\n",
       "</tr>\n",
       "<tr>\n",
       "  <th>Kurtosis:</th>      <td> 1.119</td> <th>  Cond. No.          </th> <td>    45.3</td>\n",
       "</tr>\n",
       "</table><br/><br/>Notes:<br/>[1] Standard Errors assume that the covariance matrix of the errors is correctly specified."
      ],
      "text/plain": [
       "<class 'statsmodels.iolib.summary.Summary'>\n",
       "\"\"\"\n",
       "                            WLS Regression Results                            \n",
       "==============================================================================\n",
       "Dep. Variable:                      y   R-squared:                       0.939\n",
       "Model:                            WLS   Adj. R-squared:                  0.935\n",
       "Method:                 Least Squares   F-statistic:                     217.4\n",
       "Date:                Thu, 23 Sep 2021   Prob (F-statistic):           6.39e-10\n",
       "Time:                        14:18:29   Log-Likelihood:                -49.949\n",
       "No. Observations:                  16   AIC:                             103.9\n",
       "Df Residuals:                      14   BIC:                             105.4\n",
       "Df Model:                           1                                         \n",
       "Covariance Type:            nonrobust                                         \n",
       "==============================================================================\n",
       "                 coef    std err          t      P>|t|      [0.025      0.975]\n",
       "------------------------------------------------------------------------------\n",
       "const         60.5362      2.540     23.837      0.000      55.089      65.983\n",
       "x1             5.4891      0.372     14.743      0.000       4.691       6.288\n",
       "==============================================================================\n",
       "Omnibus:                       19.645   Durbin-Watson:                   1.981\n",
       "Prob(Omnibus):                  0.000   Jarque-Bera (JB):                2.386\n",
       "Skew:                           0.098   Prob(JB):                        0.303\n",
       "Kurtosis:                       1.119   Cond. No.                         45.3\n",
       "==============================================================================\n",
       "\n",
       "Notes:\n",
       "[1] Standard Errors assume that the covariance matrix of the errors is correctly specified.\n",
       "\"\"\""
      ]
     },
     "execution_count": 15,
     "metadata": {},
     "output_type": "execute_result"
    }
   ],
   "source": [
    "Xm = sm.add_constant(X)\n",
    "Ym = y\n",
    "Km = sm.WLS(Ym,Xm,weights=1.0 / ((y-y_hat) ** 2)).fit()\n",
    "Km.summary()"
   ]
  },
  {
   "cell_type": "code",
   "execution_count": null,
   "id": "olympic-tobacco",
   "metadata": {},
   "outputs": [],
   "source": []
  }
 ],
 "metadata": {
  "kernelspec": {
   "display_name": "Python (ML)",
   "language": "python",
   "name": "ml"
  },
  "language_info": {
   "codemirror_mode": {
    "name": "ipython",
    "version": 3
   },
   "file_extension": ".py",
   "mimetype": "text/x-python",
   "name": "python",
   "nbconvert_exporter": "python",
   "pygments_lexer": "ipython3",
   "version": "3.9.1"
  },
  "latex_envs": {
   "LaTeX_envs_menu_present": true,
   "autoclose": true,
   "autocomplete": true,
   "bibliofile": "biblio.bib",
   "cite_by": "apalike",
   "current_citInitial": 1,
   "eqLabelWithNumbers": true,
   "eqNumInitial": 1,
   "hotkeys": {
    "equation": "Ctrl-E",
    "itemize": "Ctrl-I"
   },
   "labels_anchors": false,
   "latex_user_defs": false,
   "report_style_numbering": false,
   "user_envs_cfg": false
  }
 },
 "nbformat": 4,
 "nbformat_minor": 5
}
