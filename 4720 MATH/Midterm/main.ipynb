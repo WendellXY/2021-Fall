{
 "cells": [
  {
   "cell_type": "code",
   "execution_count": 1,
   "id": "announced-palestinian",
   "metadata": {
    "ExecuteTime": {
     "end_time": "2021-11-02T06:17:30.810393Z",
     "start_time": "2021-11-02T06:17:29.984698Z"
    }
   },
   "outputs": [],
   "source": [
    "import pandas as pd\n",
    "import numpy as np\n",
    "from matplotlib import pyplot as plt\n",
    "from scipy.stats import bartlett"
   ]
  },
  {
   "cell_type": "code",
   "execution_count": 2,
   "id": "psychological-rapid",
   "metadata": {
    "ExecuteTime": {
     "end_time": "2021-11-02T06:17:30.883456Z",
     "start_time": "2021-11-02T06:17:30.813760Z"
    }
   },
   "outputs": [],
   "source": [
    "db = pd.read_excel('db.xls') "
   ]
  },
  {
   "cell_type": "code",
   "execution_count": 3,
   "id": "standing-stuart",
   "metadata": {
    "ExecuteTime": {
     "end_time": "2021-11-02T06:17:30.898993Z",
     "start_time": "2021-11-02T06:17:30.886350Z"
    }
   },
   "outputs": [
    {
     "data": {
      "text/html": [
       "<div>\n",
       "<style scoped>\n",
       "    .dataframe tbody tr th:only-of-type {\n",
       "        vertical-align: middle;\n",
       "    }\n",
       "\n",
       "    .dataframe tbody tr th {\n",
       "        vertical-align: top;\n",
       "    }\n",
       "\n",
       "    .dataframe thead th {\n",
       "        text-align: right;\n",
       "    }\n",
       "</style>\n",
       "<table border=\"1\" class=\"dataframe\">\n",
       "  <thead>\n",
       "    <tr style=\"text-align: right;\">\n",
       "      <th></th>\n",
       "      <th>Wieght</th>\n",
       "      <th>Engine Size</th>\n",
       "      <th>Bore</th>\n",
       "      <th>Price</th>\n",
       "    </tr>\n",
       "  </thead>\n",
       "  <tbody>\n",
       "    <tr>\n",
       "      <th>0</th>\n",
       "      <td>2548</td>\n",
       "      <td>130</td>\n",
       "      <td>3.47</td>\n",
       "      <td>27</td>\n",
       "    </tr>\n",
       "    <tr>\n",
       "      <th>1</th>\n",
       "      <td>2548</td>\n",
       "      <td>130</td>\n",
       "      <td>3.47</td>\n",
       "      <td>27</td>\n",
       "    </tr>\n",
       "    <tr>\n",
       "      <th>2</th>\n",
       "      <td>2823</td>\n",
       "      <td>152</td>\n",
       "      <td>2.68</td>\n",
       "      <td>26</td>\n",
       "    </tr>\n",
       "    <tr>\n",
       "      <th>3</th>\n",
       "      <td>2337</td>\n",
       "      <td>109</td>\n",
       "      <td>3.19</td>\n",
       "      <td>30</td>\n",
       "    </tr>\n",
       "    <tr>\n",
       "      <th>4</th>\n",
       "      <td>2824</td>\n",
       "      <td>136</td>\n",
       "      <td>3.19</td>\n",
       "      <td>22</td>\n",
       "    </tr>\n",
       "  </tbody>\n",
       "</table>\n",
       "</div>"
      ],
      "text/plain": [
       "   Wieght  Engine Size  Bore  Price\n",
       "0    2548          130  3.47     27\n",
       "1    2548          130  3.47     27\n",
       "2    2823          152  2.68     26\n",
       "3    2337          109  3.19     30\n",
       "4    2824          136  3.19     22"
      ]
     },
     "execution_count": 3,
     "metadata": {},
     "output_type": "execute_result"
    }
   ],
   "source": [
    "db.head()"
   ]
  },
  {
   "cell_type": "code",
   "execution_count": 4,
   "id": "binding-ladder",
   "metadata": {
    "ExecuteTime": {
     "end_time": "2021-11-02T06:17:30.904490Z",
     "start_time": "2021-11-02T06:17:30.901757Z"
    }
   },
   "outputs": [],
   "source": [
    "db.columns = ['Weight', 'EngineSize', 'Bore', 'Price']"
   ]
  },
  {
   "cell_type": "code",
   "execution_count": 5,
   "id": "technical-seeker",
   "metadata": {
    "ExecuteTime": {
     "end_time": "2021-11-02T06:17:30.913748Z",
     "start_time": "2021-11-02T06:17:30.906625Z"
    }
   },
   "outputs": [
    {
     "data": {
      "text/html": [
       "<div>\n",
       "<style scoped>\n",
       "    .dataframe tbody tr th:only-of-type {\n",
       "        vertical-align: middle;\n",
       "    }\n",
       "\n",
       "    .dataframe tbody tr th {\n",
       "        vertical-align: top;\n",
       "    }\n",
       "\n",
       "    .dataframe thead th {\n",
       "        text-align: right;\n",
       "    }\n",
       "</style>\n",
       "<table border=\"1\" class=\"dataframe\">\n",
       "  <thead>\n",
       "    <tr style=\"text-align: right;\">\n",
       "      <th></th>\n",
       "      <th>Weight</th>\n",
       "      <th>EngineSize</th>\n",
       "      <th>Bore</th>\n",
       "      <th>Price</th>\n",
       "    </tr>\n",
       "  </thead>\n",
       "  <tbody>\n",
       "    <tr>\n",
       "      <th>0</th>\n",
       "      <td>2548</td>\n",
       "      <td>130</td>\n",
       "      <td>3.47</td>\n",
       "      <td>27</td>\n",
       "    </tr>\n",
       "    <tr>\n",
       "      <th>1</th>\n",
       "      <td>2548</td>\n",
       "      <td>130</td>\n",
       "      <td>3.47</td>\n",
       "      <td>27</td>\n",
       "    </tr>\n",
       "    <tr>\n",
       "      <th>2</th>\n",
       "      <td>2823</td>\n",
       "      <td>152</td>\n",
       "      <td>2.68</td>\n",
       "      <td>26</td>\n",
       "    </tr>\n",
       "    <tr>\n",
       "      <th>3</th>\n",
       "      <td>2337</td>\n",
       "      <td>109</td>\n",
       "      <td>3.19</td>\n",
       "      <td>30</td>\n",
       "    </tr>\n",
       "    <tr>\n",
       "      <th>4</th>\n",
       "      <td>2824</td>\n",
       "      <td>136</td>\n",
       "      <td>3.19</td>\n",
       "      <td>22</td>\n",
       "    </tr>\n",
       "  </tbody>\n",
       "</table>\n",
       "</div>"
      ],
      "text/plain": [
       "   Weight  EngineSize  Bore  Price\n",
       "0    2548         130  3.47     27\n",
       "1    2548         130  3.47     27\n",
       "2    2823         152  2.68     26\n",
       "3    2337         109  3.19     30\n",
       "4    2824         136  3.19     22"
      ]
     },
     "execution_count": 5,
     "metadata": {},
     "output_type": "execute_result"
    }
   ],
   "source": [
    "db.head()"
   ]
  },
  {
   "cell_type": "code",
   "execution_count": 9,
   "id": "coated-inventory",
   "metadata": {
    "ExecuteTime": {
     "end_time": "2021-11-02T06:17:31.199294Z",
     "start_time": "2021-11-02T06:17:30.934543Z"
    }
   },
   "outputs": [],
   "source": [
    "import statsmodels.api as sm\n",
    "import statsmodels.formula.api as smf\n",
    "from patsy import dmatrices"
   ]
  },
  {
   "cell_type": "code",
   "execution_count": 10,
   "id": "mathematical-monroe",
   "metadata": {
    "ExecuteTime": {
     "end_time": "2021-11-02T06:17:31.204241Z",
     "start_time": "2021-11-02T06:17:31.201560Z"
    }
   },
   "outputs": [],
   "source": [
    "expr = 'Price ~ EngineSize + Bore + Weight'"
   ]
  },
  {
   "cell_type": "code",
   "execution_count": 11,
   "id": "surprising-liver",
   "metadata": {
    "ExecuteTime": {
     "end_time": "2021-11-02T06:17:31.221666Z",
     "start_time": "2021-11-02T06:17:31.206162Z"
    }
   },
   "outputs": [],
   "source": [
    "olsr_results = smf.ols(expr, db).fit()"
   ]
  },
  {
   "cell_type": "code",
   "execution_count": 12,
   "id": "unavailable-imagination",
   "metadata": {
    "ExecuteTime": {
     "end_time": "2021-11-02T06:17:31.241646Z",
     "start_time": "2021-11-02T06:17:31.223370Z"
    }
   },
   "outputs": [
    {
     "data": {
      "text/html": [
       "<table class=\"simpletable\">\n",
       "<caption>OLS Regression Results</caption>\n",
       "<tr>\n",
       "  <th>Dep. Variable:</th>          <td>Price</td>      <th>  R-squared:         </th> <td>   0.674</td>\n",
       "</tr>\n",
       "<tr>\n",
       "  <th>Model:</th>                   <td>OLS</td>       <th>  Adj. R-squared:    </th> <td>   0.669</td>\n",
       "</tr>\n",
       "<tr>\n",
       "  <th>Method:</th>             <td>Least Squares</td>  <th>  F-statistic:       </th> <td>   135.6</td>\n",
       "</tr>\n",
       "<tr>\n",
       "  <th>Date:</th>             <td>Tue, 02 Nov 2021</td> <th>  Prob (F-statistic):</th> <td>1.14e-47</td>\n",
       "</tr>\n",
       "<tr>\n",
       "  <th>Time:</th>                 <td>14:17:31</td>     <th>  Log-Likelihood:    </th> <td> -559.40</td>\n",
       "</tr>\n",
       "<tr>\n",
       "  <th>No. Observations:</th>      <td>   201</td>      <th>  AIC:               </th> <td>   1127.</td>\n",
       "</tr>\n",
       "<tr>\n",
       "  <th>Df Residuals:</th>          <td>   197</td>      <th>  BIC:               </th> <td>   1140.</td>\n",
       "</tr>\n",
       "<tr>\n",
       "  <th>Df Model:</th>              <td>     3</td>      <th>                     </th>     <td> </td>   \n",
       "</tr>\n",
       "<tr>\n",
       "  <th>Covariance Type:</th>      <td>nonrobust</td>    <th>                     </th>     <td> </td>   \n",
       "</tr>\n",
       "</table>\n",
       "<table class=\"simpletable\">\n",
       "<tr>\n",
       "       <td></td>         <th>coef</th>     <th>std err</th>      <th>t</th>      <th>P>|t|</th>  <th>[0.025</th>    <th>0.975]</th>  \n",
       "</tr>\n",
       "<tr>\n",
       "  <th>Intercept</th>  <td>   64.0948</td> <td>    3.703</td> <td>   17.309</td> <td> 0.000</td> <td>   56.792</td> <td>   71.397</td>\n",
       "</tr>\n",
       "<tr>\n",
       "  <th>EngineSize</th> <td>   -0.0158</td> <td>    0.013</td> <td>   -1.192</td> <td> 0.235</td> <td>   -0.042</td> <td>    0.010</td>\n",
       "</tr>\n",
       "<tr>\n",
       "  <th>Bore</th>       <td>   -2.6998</td> <td>    1.349</td> <td>   -2.001</td> <td> 0.047</td> <td>   -5.360</td> <td>   -0.040</td>\n",
       "</tr>\n",
       "<tr>\n",
       "  <th>Weight</th>     <td>   -0.0087</td> <td>    0.001</td> <td>   -7.862</td> <td> 0.000</td> <td>   -0.011</td> <td>   -0.006</td>\n",
       "</tr>\n",
       "</table>\n",
       "<table class=\"simpletable\">\n",
       "<tr>\n",
       "  <th>Omnibus:</th>       <td>48.875</td> <th>  Durbin-Watson:     </th> <td>   1.635</td>\n",
       "</tr>\n",
       "<tr>\n",
       "  <th>Prob(Omnibus):</th> <td> 0.000</td> <th>  Jarque-Bera (JB):  </th> <td>  88.717</td>\n",
       "</tr>\n",
       "<tr>\n",
       "  <th>Skew:</th>          <td> 1.221</td> <th>  Prob(JB):          </th> <td>5.44e-20</td>\n",
       "</tr>\n",
       "<tr>\n",
       "  <th>Kurtosis:</th>      <td> 5.152</td> <th>  Cond. No.          </th> <td>3.66e+04</td>\n",
       "</tr>\n",
       "</table><br/><br/>Notes:<br/>[1] Standard Errors assume that the covariance matrix of the errors is correctly specified.<br/>[2] The condition number is large, 3.66e+04. This might indicate that there are<br/>strong multicollinearity or other numerical problems."
      ],
      "text/plain": [
       "<class 'statsmodels.iolib.summary.Summary'>\n",
       "\"\"\"\n",
       "                            OLS Regression Results                            \n",
       "==============================================================================\n",
       "Dep. Variable:                  Price   R-squared:                       0.674\n",
       "Model:                            OLS   Adj. R-squared:                  0.669\n",
       "Method:                 Least Squares   F-statistic:                     135.6\n",
       "Date:                Tue, 02 Nov 2021   Prob (F-statistic):           1.14e-47\n",
       "Time:                        14:17:31   Log-Likelihood:                -559.40\n",
       "No. Observations:                 201   AIC:                             1127.\n",
       "Df Residuals:                     197   BIC:                             1140.\n",
       "Df Model:                           3                                         \n",
       "Covariance Type:            nonrobust                                         \n",
       "==============================================================================\n",
       "                 coef    std err          t      P>|t|      [0.025      0.975]\n",
       "------------------------------------------------------------------------------\n",
       "Intercept     64.0948      3.703     17.309      0.000      56.792      71.397\n",
       "EngineSize    -0.0158      0.013     -1.192      0.235      -0.042       0.010\n",
       "Bore          -2.6998      1.349     -2.001      0.047      -5.360      -0.040\n",
       "Weight        -0.0087      0.001     -7.862      0.000      -0.011      -0.006\n",
       "==============================================================================\n",
       "Omnibus:                       48.875   Durbin-Watson:                   1.635\n",
       "Prob(Omnibus):                  0.000   Jarque-Bera (JB):               88.717\n",
       "Skew:                           1.221   Prob(JB):                     5.44e-20\n",
       "Kurtosis:                       5.152   Cond. No.                     3.66e+04\n",
       "==============================================================================\n",
       "\n",
       "Notes:\n",
       "[1] Standard Errors assume that the covariance matrix of the errors is correctly specified.\n",
       "[2] The condition number is large, 3.66e+04. This might indicate that there are\n",
       "strong multicollinearity or other numerical problems.\n",
       "\"\"\""
      ]
     },
     "execution_count": 12,
     "metadata": {},
     "output_type": "execute_result"
    }
   ],
   "source": [
    "olsr_results.summary()"
   ]
  },
  {
   "cell_type": "code",
   "execution_count": 13,
   "id": "northern-paragraph",
   "metadata": {
    "ExecuteTime": {
     "end_time": "2021-11-02T06:17:31.246612Z",
     "start_time": "2021-11-02T06:17:31.244152Z"
    }
   },
   "outputs": [],
   "source": [
    "from statsmodels.stats.diagnostic import het_white\n",
    "from statsmodels.compat import lzip"
   ]
  },
  {
   "cell_type": "code",
   "execution_count": 14,
   "id": "chicken-reliance",
   "metadata": {
    "ExecuteTime": {
     "end_time": "2021-11-02T06:17:31.265267Z",
     "start_time": "2021-11-02T06:17:31.249151Z"
    }
   },
   "outputs": [
    {
     "data": {
      "text/plain": [
       "[('Lagrange Multiplier statistic:', 13.915730557586318),\n",
       " (\"LM test's p-value:\", 0.12535458976604108),\n",
       " ('F-statistic:', 1.5785545581028562),\n",
       " (\"F-test's p-value:\", 0.12404783910497975)]"
      ]
     },
     "execution_count": 14,
     "metadata": {},
     "output_type": "execute_result"
    }
   ],
   "source": [
    "y, X = dmatrices(expr, db, return_type='dataframe')\n",
    "keys = ['Lagrange Multiplier statistic:', 'LM test\\'s p-value:', 'F-statistic:', 'F-test\\'s p-value:']\n",
    "results = het_white(olsr_results.resid, X)\n",
    "lzip(keys, results)"
   ]
  },
  {
   "cell_type": "markdown",
   "id": "satellite-hormone",
   "metadata": {},
   "source": [
    "The LM test's p-value is 0.00059 which is less than 0.025. So we reject reject the null hypothesis that there is no heteroscedastisticity for the database. And the F-test's p-value is 0.00035 which confirmed the rejection of the null hypothesis.\n",
    "Overall, we conclude that the given dataset has heteroscedastisticity (heteroscedastisticity is violated)."
   ]
  },
  {
   "cell_type": "markdown",
   "id": "transparent-trailer",
   "metadata": {},
   "source": [
    "---\n",
    "Question 1 (b) Fixed Heteroscedasticity"
   ]
  },
  {
   "cell_type": "code",
   "execution_count": 15,
   "id": "green-uganda",
   "metadata": {
    "ExecuteTime": {
     "end_time": "2021-11-02T06:17:31.273065Z",
     "start_time": "2021-11-02T06:17:31.268513Z"
    }
   },
   "outputs": [],
   "source": [
    "db_logged = np.log2(db)"
   ]
  },
  {
   "cell_type": "code",
   "execution_count": 16,
   "id": "domestic-height",
   "metadata": {
    "ExecuteTime": {
     "end_time": "2021-11-02T06:17:31.311820Z",
     "start_time": "2021-11-02T06:17:31.277155Z"
    }
   },
   "outputs": [
    {
     "data": {
      "text/plain": [
       "[('Lagrange Multiplier statistic:', 10.517115547072354),\n",
       " (\"LM test's p-value:\", 0.3102641131952513),\n",
       " ('F-statistic:', 1.171740778274042),\n",
       " (\"F-test's p-value:\", 0.3152069117321394)]"
      ]
     },
     "execution_count": 16,
     "metadata": {},
     "output_type": "execute_result"
    }
   ],
   "source": [
    "olsr_results = smf.ols(expr, db_logged).fit()\n",
    "y, X = dmatrices(expr, db_logged, return_type='dataframe')\n",
    "keys = ['Lagrange Multiplier statistic:', 'LM test\\'s p-value:', 'F-statistic:', 'F-test\\'s p-value:']\n",
    "results = het_white(olsr_results.resid, X)\n",
    "lzip(keys, results)"
   ]
  },
  {
   "cell_type": "code",
   "execution_count": 17,
   "id": "unavailable-drink",
   "metadata": {
    "ExecuteTime": {
     "end_time": "2021-11-02T06:17:31.330839Z",
     "start_time": "2021-11-02T06:17:31.316528Z"
    }
   },
   "outputs": [
    {
     "data": {
      "text/html": [
       "<div>\n",
       "<style scoped>\n",
       "    .dataframe tbody tr th:only-of-type {\n",
       "        vertical-align: middle;\n",
       "    }\n",
       "\n",
       "    .dataframe tbody tr th {\n",
       "        vertical-align: top;\n",
       "    }\n",
       "\n",
       "    .dataframe thead th {\n",
       "        text-align: right;\n",
       "    }\n",
       "</style>\n",
       "<table border=\"1\" class=\"dataframe\">\n",
       "  <thead>\n",
       "    <tr style=\"text-align: right;\">\n",
       "      <th></th>\n",
       "      <th>Weight</th>\n",
       "      <th>EngineSize</th>\n",
       "      <th>Bore</th>\n",
       "      <th>Price</th>\n",
       "    </tr>\n",
       "  </thead>\n",
       "  <tbody>\n",
       "    <tr>\n",
       "      <th>0</th>\n",
       "      <td>11.315150</td>\n",
       "      <td>7.022368</td>\n",
       "      <td>1.794936</td>\n",
       "      <td>4.754888</td>\n",
       "    </tr>\n",
       "    <tr>\n",
       "      <th>1</th>\n",
       "      <td>11.315150</td>\n",
       "      <td>7.022368</td>\n",
       "      <td>1.794936</td>\n",
       "      <td>4.754888</td>\n",
       "    </tr>\n",
       "    <tr>\n",
       "      <th>2</th>\n",
       "      <td>11.463013</td>\n",
       "      <td>7.247928</td>\n",
       "      <td>1.422233</td>\n",
       "      <td>4.700440</td>\n",
       "    </tr>\n",
       "    <tr>\n",
       "      <th>3</th>\n",
       "      <td>11.190442</td>\n",
       "      <td>6.768184</td>\n",
       "      <td>1.673556</td>\n",
       "      <td>4.906891</td>\n",
       "    </tr>\n",
       "    <tr>\n",
       "      <th>4</th>\n",
       "      <td>11.463524</td>\n",
       "      <td>7.087463</td>\n",
       "      <td>1.673556</td>\n",
       "      <td>4.459432</td>\n",
       "    </tr>\n",
       "  </tbody>\n",
       "</table>\n",
       "</div>"
      ],
      "text/plain": [
       "      Weight  EngineSize      Bore     Price\n",
       "0  11.315150    7.022368  1.794936  4.754888\n",
       "1  11.315150    7.022368  1.794936  4.754888\n",
       "2  11.463013    7.247928  1.422233  4.700440\n",
       "3  11.190442    6.768184  1.673556  4.906891\n",
       "4  11.463524    7.087463  1.673556  4.459432"
      ]
     },
     "execution_count": 17,
     "metadata": {},
     "output_type": "execute_result"
    }
   ],
   "source": [
    "db_logged.head()"
   ]
  },
  {
   "cell_type": "markdown",
   "id": "rural-partition",
   "metadata": {},
   "source": [
    "As we could see here, the LM test's p-value and F-test's p-value are 0.310 and 0.315, which is larger than before, which means the Heteroscedasticity is fixed."
   ]
  },
  {
   "cell_type": "markdown",
   "id": "minor-cheat",
   "metadata": {},
   "source": [
    "---\n",
    "Question 2 (a) Check multicollinarity."
   ]
  },
  {
   "cell_type": "code",
   "execution_count": 18,
   "id": "accomplished-gossip",
   "metadata": {
    "ExecuteTime": {
     "end_time": "2021-11-02T06:21:35.071009Z",
     "start_time": "2021-11-02T06:21:35.059073Z"
    }
   },
   "outputs": [],
   "source": [
    "from statsmodels.stats.outliers_influence import variance_inflation_factor"
   ]
  },
  {
   "cell_type": "code",
   "execution_count": 35,
   "id": "practical-consequence",
   "metadata": {
    "ExecuteTime": {
     "end_time": "2021-11-02T06:36:31.551238Z",
     "start_time": "2021-11-02T06:36:31.536851Z"
    }
   },
   "outputs": [],
   "source": [
    "db = db[~db.isin([np.nan, np.inf, -np.inf]).any(1)]\n",
    "expr = 'Price ~ EngineSize + Bore + Weight'\n",
    "\n",
    "y, X = dmatrices(expr, data=db, return_type='dataframe')\n",
    "vif_data = pd.DataFrame()"
   ]
  },
  {
   "cell_type": "code",
   "execution_count": 36,
   "id": "starting-dispute",
   "metadata": {
    "ExecuteTime": {
     "end_time": "2021-11-02T06:36:31.870517Z",
     "start_time": "2021-11-02T06:36:31.866891Z"
    }
   },
   "outputs": [],
   "source": [
    "vif_data[\"feature\"] = X.columns"
   ]
  },
  {
   "cell_type": "code",
   "execution_count": 37,
   "id": "distributed-track",
   "metadata": {
    "ExecuteTime": {
     "end_time": "2021-11-02T06:36:32.257018Z",
     "start_time": "2021-11-02T06:36:32.250884Z"
    }
   },
   "outputs": [],
   "source": [
    "vif_data[\"VIF\"] = [variance_inflation_factor(X.values, i) for i in range(len(X.columns))]"
   ]
  },
  {
   "cell_type": "code",
   "execution_count": 38,
   "id": "modern-publication",
   "metadata": {
    "ExecuteTime": {
     "end_time": "2021-11-02T06:36:32.643577Z",
     "start_time": "2021-11-02T06:36:32.635640Z"
    }
   },
   "outputs": [
    {
     "data": {
      "text/html": [
       "<div>\n",
       "<style scoped>\n",
       "    .dataframe tbody tr th:only-of-type {\n",
       "        vertical-align: middle;\n",
       "    }\n",
       "\n",
       "    .dataframe tbody tr th {\n",
       "        vertical-align: top;\n",
       "    }\n",
       "\n",
       "    .dataframe thead th {\n",
       "        text-align: right;\n",
       "    }\n",
       "</style>\n",
       "<table border=\"1\" class=\"dataframe\">\n",
       "  <thead>\n",
       "    <tr style=\"text-align: right;\">\n",
       "      <th></th>\n",
       "      <th>feature</th>\n",
       "      <th>VIF</th>\n",
       "    </tr>\n",
       "  </thead>\n",
       "  <tbody>\n",
       "    <tr>\n",
       "      <th>0</th>\n",
       "      <td>Intercept</td>\n",
       "      <td>380.975988</td>\n",
       "    </tr>\n",
       "    <tr>\n",
       "      <th>1</th>\n",
       "      <td>Price</td>\n",
       "      <td>2.332696</td>\n",
       "    </tr>\n",
       "    <tr>\n",
       "      <th>2</th>\n",
       "      <td>EngineSize</td>\n",
       "      <td>2.330632</td>\n",
       "    </tr>\n",
       "    <tr>\n",
       "      <th>3</th>\n",
       "      <td>Bore</td>\n",
       "      <td>1.691136</td>\n",
       "    </tr>\n",
       "  </tbody>\n",
       "</table>\n",
       "</div>"
      ],
      "text/plain": [
       "      feature         VIF\n",
       "0   Intercept  380.975988\n",
       "1       Price    2.332696\n",
       "2  EngineSize    2.330632\n",
       "3        Bore    1.691136"
      ]
     },
     "execution_count": 38,
     "metadata": {},
     "output_type": "execute_result"
    }
   ],
   "source": [
    "vif_data"
   ]
  },
  {
   "cell_type": "markdown",
   "id": "regional-policy",
   "metadata": {},
   "source": [
    "The VIF values of Engine Size, Bore, and Weight are 3.84, 1.74, and 4.29, which indicate that there are moderate correlation between those given features and y variable 'Price' in our model 'Price ~ EngineSize + Bore + Weight' but this is often not severe enough to require attention. "
   ]
  },
  {
   "cell_type": "code",
   "execution_count": 53,
   "id": "aware-corpus",
   "metadata": {
    "ExecuteTime": {
     "end_time": "2021-11-02T06:48:25.996112Z",
     "start_time": "2021-11-02T06:48:25.991614Z"
    }
   },
   "outputs": [],
   "source": [
    "def getVIFDataFrame(expression):\n",
    "    y, X = dmatrices(expression, data=db, return_type='dataframe')\n",
    "    vif_data = pd.DataFrame()\n",
    "    vif_data[\"feature\"] = X.columns\n",
    "    vif_data[expression.split(' ~')[0]] = [variance_inflation_factor(X.values, i) for i in range(len(X.columns))]\n",
    "    return vif_data"
   ]
  },
  {
   "cell_type": "markdown",
   "id": "accessory-resort",
   "metadata": {},
   "source": [
    "Ignore the string after '~', I just use the expression for convenience, in other words, 'Price ~ EngineSize + Bore + Weight' just means 'Price'"
   ]
  },
  {
   "cell_type": "code",
   "execution_count": 54,
   "id": "radical-accordance",
   "metadata": {
    "ExecuteTime": {
     "end_time": "2021-11-02T06:48:27.409786Z",
     "start_time": "2021-11-02T06:48:27.388993Z"
    }
   },
   "outputs": [
    {
     "data": {
      "text/html": [
       "<div>\n",
       "<style scoped>\n",
       "    .dataframe tbody tr th:only-of-type {\n",
       "        vertical-align: middle;\n",
       "    }\n",
       "\n",
       "    .dataframe tbody tr th {\n",
       "        vertical-align: top;\n",
       "    }\n",
       "\n",
       "    .dataframe thead th {\n",
       "        text-align: right;\n",
       "    }\n",
       "</style>\n",
       "<table border=\"1\" class=\"dataframe\">\n",
       "  <thead>\n",
       "    <tr style=\"text-align: right;\">\n",
       "      <th></th>\n",
       "      <th>feature</th>\n",
       "      <th>Price</th>\n",
       "    </tr>\n",
       "  </thead>\n",
       "  <tbody>\n",
       "    <tr>\n",
       "      <th>0</th>\n",
       "      <td>Intercept</td>\n",
       "      <td>176.475115</td>\n",
       "    </tr>\n",
       "    <tr>\n",
       "      <th>1</th>\n",
       "      <td>EngineSize</td>\n",
       "      <td>3.843120</td>\n",
       "    </tr>\n",
       "    <tr>\n",
       "      <th>2</th>\n",
       "      <td>Bore</td>\n",
       "      <td>1.743360</td>\n",
       "    </tr>\n",
       "    <tr>\n",
       "      <th>3</th>\n",
       "      <td>Weight</td>\n",
       "      <td>4.296775</td>\n",
       "    </tr>\n",
       "  </tbody>\n",
       "</table>\n",
       "</div>"
      ],
      "text/plain": [
       "      feature       Price\n",
       "0   Intercept  176.475115\n",
       "1  EngineSize    3.843120\n",
       "2        Bore    1.743360\n",
       "3      Weight    4.296775"
      ]
     },
     "execution_count": 54,
     "metadata": {},
     "output_type": "execute_result"
    }
   ],
   "source": [
    "getVIFDataFrame('Price ~ EngineSize + Bore + Weight')"
   ]
  },
  {
   "cell_type": "code",
   "execution_count": 55,
   "id": "associate-mortality",
   "metadata": {
    "ExecuteTime": {
     "end_time": "2021-11-02T06:48:28.319857Z",
     "start_time": "2021-11-02T06:48:28.299079Z"
    }
   },
   "outputs": [
    {
     "data": {
      "text/html": [
       "<div>\n",
       "<style scoped>\n",
       "    .dataframe tbody tr th:only-of-type {\n",
       "        vertical-align: middle;\n",
       "    }\n",
       "\n",
       "    .dataframe tbody tr th {\n",
       "        vertical-align: top;\n",
       "    }\n",
       "\n",
       "    .dataframe thead th {\n",
       "        text-align: right;\n",
       "    }\n",
       "</style>\n",
       "<table border=\"1\" class=\"dataframe\">\n",
       "  <thead>\n",
       "    <tr style=\"text-align: right;\">\n",
       "      <th></th>\n",
       "      <th>feature</th>\n",
       "      <th>EngineSize</th>\n",
       "    </tr>\n",
       "  </thead>\n",
       "  <tbody>\n",
       "    <tr>\n",
       "      <th>0</th>\n",
       "      <td>Intercept</td>\n",
       "      <td>441.405378</td>\n",
       "    </tr>\n",
       "    <tr>\n",
       "      <th>1</th>\n",
       "      <td>Price</td>\n",
       "      <td>3.042694</td>\n",
       "    </tr>\n",
       "    <tr>\n",
       "      <th>2</th>\n",
       "      <td>Bore</td>\n",
       "      <td>1.767149</td>\n",
       "    </tr>\n",
       "    <tr>\n",
       "      <th>3</th>\n",
       "      <td>Weight</td>\n",
       "      <td>3.398855</td>\n",
       "    </tr>\n",
       "  </tbody>\n",
       "</table>\n",
       "</div>"
      ],
      "text/plain": [
       "     feature  EngineSize\n",
       "0  Intercept  441.405378\n",
       "1      Price    3.042694\n",
       "2       Bore    1.767149\n",
       "3     Weight    3.398855"
      ]
     },
     "execution_count": 55,
     "metadata": {},
     "output_type": "execute_result"
    }
   ],
   "source": [
    "getVIFDataFrame('EngineSize ~ Price + Bore + Weight')"
   ]
  },
  {
   "cell_type": "code",
   "execution_count": 56,
   "id": "occupied-research",
   "metadata": {
    "ExecuteTime": {
     "end_time": "2021-11-02T06:48:28.979096Z",
     "start_time": "2021-11-02T06:48:28.959097Z"
    }
   },
   "outputs": [
    {
     "data": {
      "text/html": [
       "<div>\n",
       "<style scoped>\n",
       "    .dataframe tbody tr th:only-of-type {\n",
       "        vertical-align: middle;\n",
       "    }\n",
       "\n",
       "    .dataframe tbody tr th {\n",
       "        vertical-align: top;\n",
       "    }\n",
       "\n",
       "    .dataframe thead th {\n",
       "        text-align: right;\n",
       "    }\n",
       "</style>\n",
       "<table border=\"1\" class=\"dataframe\">\n",
       "  <thead>\n",
       "    <tr style=\"text-align: right;\">\n",
       "      <th></th>\n",
       "      <th>feature</th>\n",
       "      <th>Bore</th>\n",
       "    </tr>\n",
       "  </thead>\n",
       "  <tbody>\n",
       "    <tr>\n",
       "      <th>0</th>\n",
       "      <td>Intercept</td>\n",
       "      <td>239.751825</td>\n",
       "    </tr>\n",
       "    <tr>\n",
       "      <th>1</th>\n",
       "      <td>Price</td>\n",
       "      <td>3.003579</td>\n",
       "    </tr>\n",
       "    <tr>\n",
       "      <th>2</th>\n",
       "      <td>EngineSize</td>\n",
       "      <td>3.845483</td>\n",
       "    </tr>\n",
       "    <tr>\n",
       "      <th>3</th>\n",
       "      <td>Weight</td>\n",
       "      <td>5.366796</td>\n",
       "    </tr>\n",
       "  </tbody>\n",
       "</table>\n",
       "</div>"
      ],
      "text/plain": [
       "      feature        Bore\n",
       "0   Intercept  239.751825\n",
       "1       Price    3.003579\n",
       "2  EngineSize    3.845483\n",
       "3      Weight    5.366796"
      ]
     },
     "execution_count": 56,
     "metadata": {},
     "output_type": "execute_result"
    }
   ],
   "source": [
    "getVIFDataFrame('Bore ~ Price + EngineSize + Weight')"
   ]
  },
  {
   "cell_type": "code",
   "execution_count": 57,
   "id": "retired-venture",
   "metadata": {
    "ExecuteTime": {
     "end_time": "2021-11-02T06:48:29.437717Z",
     "start_time": "2021-11-02T06:48:29.417013Z"
    }
   },
   "outputs": [
    {
     "data": {
      "text/html": [
       "<div>\n",
       "<style scoped>\n",
       "    .dataframe tbody tr th:only-of-type {\n",
       "        vertical-align: middle;\n",
       "    }\n",
       "\n",
       "    .dataframe tbody tr th {\n",
       "        vertical-align: top;\n",
       "    }\n",
       "\n",
       "    .dataframe thead th {\n",
       "        text-align: right;\n",
       "    }\n",
       "</style>\n",
       "<table border=\"1\" class=\"dataframe\">\n",
       "  <thead>\n",
       "    <tr style=\"text-align: right;\">\n",
       "      <th></th>\n",
       "      <th>feature</th>\n",
       "      <th>Weight</th>\n",
       "    </tr>\n",
       "  </thead>\n",
       "  <tbody>\n",
       "    <tr>\n",
       "      <th>0</th>\n",
       "      <td>Intercept</td>\n",
       "      <td>380.975988</td>\n",
       "    </tr>\n",
       "    <tr>\n",
       "      <th>1</th>\n",
       "      <td>Price</td>\n",
       "      <td>2.332696</td>\n",
       "    </tr>\n",
       "    <tr>\n",
       "      <th>2</th>\n",
       "      <td>EngineSize</td>\n",
       "      <td>2.330632</td>\n",
       "    </tr>\n",
       "    <tr>\n",
       "      <th>3</th>\n",
       "      <td>Bore</td>\n",
       "      <td>1.691136</td>\n",
       "    </tr>\n",
       "  </tbody>\n",
       "</table>\n",
       "</div>"
      ],
      "text/plain": [
       "      feature      Weight\n",
       "0   Intercept  380.975988\n",
       "1       Price    2.332696\n",
       "2  EngineSize    2.330632\n",
       "3        Bore    1.691136"
      ]
     },
     "execution_count": 57,
     "metadata": {},
     "output_type": "execute_result"
    }
   ],
   "source": [
    "getVIFDataFrame('Weight ~ Price + EngineSize + Bore')"
   ]
  },
  {
   "cell_type": "markdown",
   "id": "detected-history",
   "metadata": {},
   "source": [
    "From the table above, we could found that the VIF value between Weight and Bore is 5.367 which is greater than 5 which indicates high correlation between them. And for others, the VIF vaue are all between 1 and 5 which indicates moderate correlation between given values, but this is often not severe enough to require attention."
   ]
  },
  {
   "cell_type": "markdown",
   "id": "racial-european",
   "metadata": {
    "ExecuteTime": {
     "end_time": "2021-11-02T06:45:29.521927Z",
     "start_time": "2021-11-02T06:45:29.518070Z"
    }
   },
   "source": [
    "---\n",
    "Question 2 (b) Fix High Correlation issue"
   ]
  },
  {
   "cell_type": "markdown",
   "id": "delayed-command",
   "metadata": {},
   "source": [
    "Since Weight and Bore have high correlation, so in order to fix the high correlation issue, we could simply remove one of them. By observing the table above, we could find that the VIF for Bore is always greater, so **we remove the Bore variable** in our model."
   ]
  }
 ],
 "metadata": {
  "kernelspec": {
   "display_name": "Python (ML)",
   "language": "python",
   "name": "ml"
  },
  "language_info": {
   "codemirror_mode": {
    "name": "ipython",
    "version": 3
   },
   "file_extension": ".py",
   "mimetype": "text/x-python",
   "name": "python",
   "nbconvert_exporter": "python",
   "pygments_lexer": "ipython3",
   "version": "3.9.1"
  },
  "latex_envs": {
   "LaTeX_envs_menu_present": true,
   "autoclose": true,
   "autocomplete": true,
   "bibliofile": "biblio.bib",
   "cite_by": "apalike",
   "current_citInitial": 1,
   "eqLabelWithNumbers": true,
   "eqNumInitial": 1,
   "hotkeys": {
    "equation": "Ctrl-E",
    "itemize": "Ctrl-I"
   },
   "labels_anchors": false,
   "latex_user_defs": false,
   "report_style_numbering": false,
   "user_envs_cfg": false
  }
 },
 "nbformat": 4,
 "nbformat_minor": 5
}
