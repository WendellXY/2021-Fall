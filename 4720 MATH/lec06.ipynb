{
 "cells": [
  {
   "cell_type": "code",
   "execution_count": 19,
   "id": "varied-mathematics",
   "metadata": {
    "ExecuteTime": {
     "end_time": "2021-09-16T05:45:02.195234Z",
     "start_time": "2021-09-16T05:45:02.192221Z"
    }
   },
   "outputs": [],
   "source": [
    "import pandas as pd\n",
    "import numpy as np"
   ]
  },
  {
   "cell_type": "code",
   "execution_count": 20,
   "id": "informational-palmer",
   "metadata": {
    "ExecuteTime": {
     "end_time": "2021-09-16T05:45:02.365285Z",
     "start_time": "2021-09-16T05:45:02.354962Z"
    }
   },
   "outputs": [
    {
     "data": {
      "text/html": [
       "<div>\n",
       "<style scoped>\n",
       "    .dataframe tbody tr th:only-of-type {\n",
       "        vertical-align: middle;\n",
       "    }\n",
       "\n",
       "    .dataframe tbody tr th {\n",
       "        vertical-align: top;\n",
       "    }\n",
       "\n",
       "    .dataframe thead th {\n",
       "        text-align: right;\n",
       "    }\n",
       "</style>\n",
       "<table border=\"1\" class=\"dataframe\">\n",
       "  <thead>\n",
       "    <tr style=\"text-align: right;\">\n",
       "      <th></th>\n",
       "      <th>Color</th>\n",
       "      <th>Quality</th>\n",
       "      <th>Price</th>\n",
       "    </tr>\n",
       "  </thead>\n",
       "  <tbody>\n",
       "    <tr>\n",
       "      <th>0</th>\n",
       "      <td>7</td>\n",
       "      <td>5</td>\n",
       "      <td>58</td>\n",
       "    </tr>\n",
       "    <tr>\n",
       "      <th>1</th>\n",
       "      <td>3</td>\n",
       "      <td>7</td>\n",
       "      <td>11</td>\n",
       "    </tr>\n",
       "    <tr>\n",
       "      <th>2</th>\n",
       "      <td>5</td>\n",
       "      <td>8</td>\n",
       "      <td>24</td>\n",
       "    </tr>\n",
       "    <tr>\n",
       "      <th>3</th>\n",
       "      <td>8</td>\n",
       "      <td>1</td>\n",
       "      <td>11</td>\n",
       "    </tr>\n",
       "    <tr>\n",
       "      <th>4</th>\n",
       "      <td>9</td>\n",
       "      <td>3</td>\n",
       "      <td>31</td>\n",
       "    </tr>\n",
       "  </tbody>\n",
       "</table>\n",
       "</div>"
      ],
      "text/plain": [
       "   Color  Quality  Price\n",
       "0      7        5     58\n",
       "1      3        7     11\n",
       "2      5        8     24\n",
       "3      8        1     11\n",
       "4      9        3     31"
      ]
     },
     "execution_count": 20,
     "metadata": {},
     "output_type": "execute_result"
    }
   ],
   "source": [
    "db = pd.read_csv('lec06.csv')\n",
    "db.head()"
   ]
  },
  {
   "cell_type": "code",
   "execution_count": 21,
   "id": "varying-gravity",
   "metadata": {
    "ExecuteTime": {
     "end_time": "2021-09-16T05:45:02.539987Z",
     "start_time": "2021-09-16T05:45:02.530399Z"
    }
   },
   "outputs": [
    {
     "data": {
      "text/html": [
       "<div>\n",
       "<style scoped>\n",
       "    .dataframe tbody tr th:only-of-type {\n",
       "        vertical-align: middle;\n",
       "    }\n",
       "\n",
       "    .dataframe tbody tr th {\n",
       "        vertical-align: top;\n",
       "    }\n",
       "\n",
       "    .dataframe thead th {\n",
       "        text-align: right;\n",
       "    }\n",
       "</style>\n",
       "<table border=\"1\" class=\"dataframe\">\n",
       "  <thead>\n",
       "    <tr style=\"text-align: right;\">\n",
       "      <th></th>\n",
       "      <th>Color</th>\n",
       "      <th>Quality</th>\n",
       "      <th>Price</th>\n",
       "    </tr>\n",
       "  </thead>\n",
       "  <tbody>\n",
       "    <tr>\n",
       "      <th>0</th>\n",
       "      <td>7</td>\n",
       "      <td>5</td>\n",
       "      <td>4.060443</td>\n",
       "    </tr>\n",
       "    <tr>\n",
       "      <th>1</th>\n",
       "      <td>3</td>\n",
       "      <td>7</td>\n",
       "      <td>2.397895</td>\n",
       "    </tr>\n",
       "    <tr>\n",
       "      <th>2</th>\n",
       "      <td>5</td>\n",
       "      <td>8</td>\n",
       "      <td>3.178054</td>\n",
       "    </tr>\n",
       "    <tr>\n",
       "      <th>3</th>\n",
       "      <td>8</td>\n",
       "      <td>1</td>\n",
       "      <td>2.397895</td>\n",
       "    </tr>\n",
       "    <tr>\n",
       "      <th>4</th>\n",
       "      <td>9</td>\n",
       "      <td>3</td>\n",
       "      <td>3.433987</td>\n",
       "    </tr>\n",
       "  </tbody>\n",
       "</table>\n",
       "</div>"
      ],
      "text/plain": [
       "   Color  Quality     Price\n",
       "0      7        5  4.060443\n",
       "1      3        7  2.397895\n",
       "2      5        8  3.178054\n",
       "3      8        1  2.397895\n",
       "4      9        3  3.433987"
      ]
     },
     "execution_count": 21,
     "metadata": {},
     "output_type": "execute_result"
    }
   ],
   "source": [
    "db['Price'] = np.log(db['Price'])\n",
    "db.head()"
   ]
  },
  {
   "cell_type": "code",
   "execution_count": 37,
   "id": "minute-sessions",
   "metadata": {
    "ExecuteTime": {
     "end_time": "2021-09-16T05:45:56.145892Z",
     "start_time": "2021-09-16T05:45:56.136337Z"
    }
   },
   "outputs": [
    {
     "data": {
      "text/plain": [
       "0     4.060443\n",
       "1     2.397895\n",
       "2     3.178054\n",
       "3     2.397895\n",
       "4     3.433987\n",
       "5     2.708050\n",
       "6     1.609438\n",
       "7     2.079442\n",
       "8     4.430817\n",
       "9     3.178054\n",
       "10    3.044522\n",
       "Name: Price, dtype: float64"
      ]
     },
     "execution_count": 37,
     "metadata": {},
     "output_type": "execute_result"
    }
   ],
   "source": [
    "db = pd.concat([pd.Series(1, index=db.index, name='00'), db], axis=1)\n",
    "X = db.drop(columns='Price')\n",
    "y = db.iloc[:, 3]"
   ]
  },
  {
   "cell_type": "code",
   "execution_count": 38,
   "id": "alert-damage",
   "metadata": {
    "ExecuteTime": {
     "end_time": "2021-09-16T05:46:03.342320Z",
     "start_time": "2021-09-16T05:46:03.332352Z"
    }
   },
   "outputs": [
    {
     "data": {
      "text/html": [
       "<div>\n",
       "<style scoped>\n",
       "    .dataframe tbody tr th:only-of-type {\n",
       "        vertical-align: middle;\n",
       "    }\n",
       "\n",
       "    .dataframe tbody tr th {\n",
       "        vertical-align: top;\n",
       "    }\n",
       "\n",
       "    .dataframe thead th {\n",
       "        text-align: right;\n",
       "    }\n",
       "</style>\n",
       "<table border=\"1\" class=\"dataframe\">\n",
       "  <thead>\n",
       "    <tr style=\"text-align: right;\">\n",
       "      <th></th>\n",
       "      <th>00</th>\n",
       "      <th>Color</th>\n",
       "      <th>Quality</th>\n",
       "    </tr>\n",
       "  </thead>\n",
       "  <tbody>\n",
       "    <tr>\n",
       "      <th>0</th>\n",
       "      <td>1.0</td>\n",
       "      <td>0.777778</td>\n",
       "      <td>0.625</td>\n",
       "    </tr>\n",
       "    <tr>\n",
       "      <th>1</th>\n",
       "      <td>1.0</td>\n",
       "      <td>0.333333</td>\n",
       "      <td>0.875</td>\n",
       "    </tr>\n",
       "    <tr>\n",
       "      <th>2</th>\n",
       "      <td>1.0</td>\n",
       "      <td>0.555556</td>\n",
       "      <td>1.000</td>\n",
       "    </tr>\n",
       "    <tr>\n",
       "      <th>3</th>\n",
       "      <td>1.0</td>\n",
       "      <td>0.888889</td>\n",
       "      <td>0.125</td>\n",
       "    </tr>\n",
       "    <tr>\n",
       "      <th>4</th>\n",
       "      <td>1.0</td>\n",
       "      <td>1.000000</td>\n",
       "      <td>0.375</td>\n",
       "    </tr>\n",
       "  </tbody>\n",
       "</table>\n",
       "</div>"
      ],
      "text/plain": [
       "    00     Color  Quality\n",
       "0  1.0  0.777778    0.625\n",
       "1  1.0  0.333333    0.875\n",
       "2  1.0  0.555556    1.000\n",
       "3  1.0  0.888889    0.125\n",
       "4  1.0  1.000000    0.375"
      ]
     },
     "execution_count": 38,
     "metadata": {},
     "output_type": "execute_result"
    }
   ],
   "source": [
    "for i in X.columns:\n",
    "    X[i] = X[i]/np.max(X[i])\n",
    "X.head()"
   ]
  },
  {
   "cell_type": "code",
   "execution_count": 50,
   "id": "geographic-bonus",
   "metadata": {
    "ExecuteTime": {
     "end_time": "2021-09-16T05:48:01.212907Z",
     "start_time": "2021-09-16T05:48:01.201961Z"
    }
   },
   "outputs": [
    {
     "data": {
      "text/plain": [
       "0.8454824413307531"
      ]
     },
     "execution_count": 50,
     "metadata": {},
     "output_type": "execute_result"
    }
   ],
   "source": [
    "import numpy as np\n",
    "from sklearn.linear_model import LinearRegression\n",
    "reg = LinearRegression().fit(X, y)\n",
    "reg.score(X, y)"
   ]
  },
  {
   "cell_type": "code",
   "execution_count": 51,
   "id": "brave-mounting",
   "metadata": {
    "ExecuteTime": {
     "end_time": "2021-09-16T05:48:01.933180Z",
     "start_time": "2021-09-16T05:48:01.928631Z"
    }
   },
   "outputs": [
    {
     "data": {
      "text/plain": [
       "array([0.        , 2.69491251, 1.84009513])"
      ]
     },
     "execution_count": 51,
     "metadata": {},
     "output_type": "execute_result"
    }
   ],
   "source": [
    "reg.coef_"
   ]
  },
  {
   "cell_type": "code",
   "execution_count": 52,
   "id": "gorgeous-alabama",
   "metadata": {
    "ExecuteTime": {
     "end_time": "2021-09-16T05:48:03.371693Z",
     "start_time": "2021-09-16T05:48:03.367295Z"
    }
   },
   "outputs": [
    {
     "data": {
      "text/plain": [
       "0.17684970200766736"
      ]
     },
     "execution_count": 52,
     "metadata": {},
     "output_type": "execute_result"
    }
   ],
   "source": [
    "reg.intercept_"
   ]
  },
  {
   "cell_type": "code",
   "execution_count": 53,
   "id": "special-confidence",
   "metadata": {
    "ExecuteTime": {
     "end_time": "2021-09-16T05:49:07.397519Z",
     "start_time": "2021-09-16T05:49:07.380818Z"
    }
   },
   "outputs": [
    {
     "data": {
      "text/html": [
       "<div>\n",
       "<style scoped>\n",
       "    .dataframe tbody tr th:only-of-type {\n",
       "        vertical-align: middle;\n",
       "    }\n",
       "\n",
       "    .dataframe tbody tr th {\n",
       "        vertical-align: top;\n",
       "    }\n",
       "\n",
       "    .dataframe thead th {\n",
       "        text-align: right;\n",
       "    }\n",
       "</style>\n",
       "<table border=\"1\" class=\"dataframe\">\n",
       "  <thead>\n",
       "    <tr style=\"text-align: right;\">\n",
       "      <th></th>\n",
       "      <th>Color</th>\n",
       "      <th>Quality</th>\n",
       "      <th>Price</th>\n",
       "    </tr>\n",
       "  </thead>\n",
       "  <tbody>\n",
       "    <tr>\n",
       "      <th>0</th>\n",
       "      <td>7</td>\n",
       "      <td>5</td>\n",
       "      <td>58</td>\n",
       "    </tr>\n",
       "    <tr>\n",
       "      <th>1</th>\n",
       "      <td>3</td>\n",
       "      <td>7</td>\n",
       "      <td>11</td>\n",
       "    </tr>\n",
       "    <tr>\n",
       "      <th>2</th>\n",
       "      <td>5</td>\n",
       "      <td>8</td>\n",
       "      <td>24</td>\n",
       "    </tr>\n",
       "    <tr>\n",
       "      <th>3</th>\n",
       "      <td>8</td>\n",
       "      <td>1</td>\n",
       "      <td>11</td>\n",
       "    </tr>\n",
       "    <tr>\n",
       "      <th>4</th>\n",
       "      <td>9</td>\n",
       "      <td>3</td>\n",
       "      <td>31</td>\n",
       "    </tr>\n",
       "  </tbody>\n",
       "</table>\n",
       "</div>"
      ],
      "text/plain": [
       "   Color  Quality  Price\n",
       "0      7        5     58\n",
       "1      3        7     11\n",
       "2      5        8     24\n",
       "3      8        1     11\n",
       "4      9        3     31"
      ]
     },
     "execution_count": 53,
     "metadata": {},
     "output_type": "execute_result"
    }
   ],
   "source": [
    "db = pd.read_csv('lec06.csv')\n",
    "db.head()"
   ]
  },
  {
   "cell_type": "code",
   "execution_count": 54,
   "id": "polar-railway",
   "metadata": {
    "ExecuteTime": {
     "end_time": "2021-09-16T05:49:11.429205Z",
     "start_time": "2021-09-16T05:49:11.424969Z"
    }
   },
   "outputs": [],
   "source": [
    "X = db.drop(columns='Price')\n",
    "y = db.iloc[:, 2]"
   ]
  },
  {
   "cell_type": "code",
   "execution_count": 55,
   "id": "seeing-lingerie",
   "metadata": {
    "ExecuteTime": {
     "end_time": "2021-09-16T05:49:17.309974Z",
     "start_time": "2021-09-16T05:49:17.299886Z"
    }
   },
   "outputs": [
    {
     "data": {
      "text/plain": [
       "0.6096344612876989"
      ]
     },
     "execution_count": 55,
     "metadata": {},
     "output_type": "execute_result"
    }
   ],
   "source": [
    "import numpy as np\n",
    "from sklearn.linear_model import LinearRegression\n",
    "reg = LinearRegression().fit(X, y)\n",
    "reg.score(X, y)"
   ]
  },
  {
   "cell_type": "markdown",
   "id": "understood-ethnic",
   "metadata": {},
   "source": [
    "---"
   ]
  },
  {
   "cell_type": "code",
   "execution_count": 57,
   "id": "enhanced-second",
   "metadata": {
    "ExecuteTime": {
     "end_time": "2021-09-16T05:50:35.756762Z",
     "start_time": "2021-09-16T05:50:25.183656Z"
    }
   },
   "outputs": [],
   "source": [
    "#importing libararies\n",
    "import pandas as pd\n",
    "import seaborn as sns\n",
    "import numpy as np\n",
    "import statsmodels.api  as sm\n",
    "from sklearn.preprocessing import LabelEncoder, OneHotEncoder\n",
    "import matplotlib.pyplot as plt"
   ]
  },
  {
   "cell_type": "code",
   "execution_count": 58,
   "id": "excess-vegetarian",
   "metadata": {
    "ExecuteTime": {
     "end_time": "2021-09-16T05:50:54.505629Z",
     "start_time": "2021-09-16T05:50:54.493759Z"
    }
   },
   "outputs": [
    {
     "data": {
      "text/html": [
       "<div>\n",
       "<style scoped>\n",
       "    .dataframe tbody tr th:only-of-type {\n",
       "        vertical-align: middle;\n",
       "    }\n",
       "\n",
       "    .dataframe tbody tr th {\n",
       "        vertical-align: top;\n",
       "    }\n",
       "\n",
       "    .dataframe thead th {\n",
       "        text-align: right;\n",
       "    }\n",
       "</style>\n",
       "<table border=\"1\" class=\"dataframe\">\n",
       "  <thead>\n",
       "    <tr style=\"text-align: right;\">\n",
       "      <th></th>\n",
       "      <th>Color</th>\n",
       "      <th>Quality</th>\n",
       "      <th>Price</th>\n",
       "    </tr>\n",
       "  </thead>\n",
       "  <tbody>\n",
       "    <tr>\n",
       "      <th>0</th>\n",
       "      <td>7</td>\n",
       "      <td>5</td>\n",
       "      <td>58</td>\n",
       "    </tr>\n",
       "    <tr>\n",
       "      <th>1</th>\n",
       "      <td>3</td>\n",
       "      <td>7</td>\n",
       "      <td>11</td>\n",
       "    </tr>\n",
       "    <tr>\n",
       "      <th>2</th>\n",
       "      <td>5</td>\n",
       "      <td>8</td>\n",
       "      <td>24</td>\n",
       "    </tr>\n",
       "    <tr>\n",
       "      <th>3</th>\n",
       "      <td>8</td>\n",
       "      <td>1</td>\n",
       "      <td>11</td>\n",
       "    </tr>\n",
       "    <tr>\n",
       "      <th>4</th>\n",
       "      <td>9</td>\n",
       "      <td>3</td>\n",
       "      <td>31</td>\n",
       "    </tr>\n",
       "    <tr>\n",
       "      <th>5</th>\n",
       "      <td>5</td>\n",
       "      <td>4</td>\n",
       "      <td>15</td>\n",
       "    </tr>\n",
       "    <tr>\n",
       "      <th>6</th>\n",
       "      <td>4</td>\n",
       "      <td>0</td>\n",
       "      <td>5</td>\n",
       "    </tr>\n",
       "    <tr>\n",
       "      <th>7</th>\n",
       "      <td>2</td>\n",
       "      <td>6</td>\n",
       "      <td>8</td>\n",
       "    </tr>\n",
       "    <tr>\n",
       "      <th>8</th>\n",
       "      <td>8</td>\n",
       "      <td>7</td>\n",
       "      <td>84</td>\n",
       "    </tr>\n",
       "    <tr>\n",
       "      <th>9</th>\n",
       "      <td>6</td>\n",
       "      <td>4</td>\n",
       "      <td>24</td>\n",
       "    </tr>\n",
       "    <tr>\n",
       "      <th>10</th>\n",
       "      <td>9</td>\n",
       "      <td>2</td>\n",
       "      <td>21</td>\n",
       "    </tr>\n",
       "  </tbody>\n",
       "</table>\n",
       "</div>"
      ],
      "text/plain": [
       "    Color  Quality  Price\n",
       "0       7        5     58\n",
       "1       3        7     11\n",
       "2       5        8     24\n",
       "3       8        1     11\n",
       "4       9        3     31\n",
       "5       5        4     15\n",
       "6       4        0      5\n",
       "7       2        6      8\n",
       "8       8        7     84\n",
       "9       6        4     24\n",
       "10      9        2     21"
      ]
     },
     "execution_count": 58,
     "metadata": {},
     "output_type": "execute_result"
    }
   ],
   "source": [
    "df = pd.read_csv('lec06.csv')\n",
    "df"
   ]
  },
  {
   "cell_type": "code",
   "execution_count": 59,
   "id": "played-barcelona",
   "metadata": {
    "ExecuteTime": {
     "end_time": "2021-09-16T05:51:05.461766Z",
     "start_time": "2021-09-16T05:51:05.455834Z"
    }
   },
   "outputs": [
    {
     "data": {
      "text/plain": [
       "<bound method NDFrame.describe of     Color  Quality  Price\n",
       "0       7        5     58\n",
       "1       3        7     11\n",
       "2       5        8     24\n",
       "3       8        1     11\n",
       "4       9        3     31\n",
       "5       5        4     15\n",
       "6       4        0      5\n",
       "7       2        6      8\n",
       "8       8        7     84\n",
       "9       6        4     24\n",
       "10      9        2     21>"
      ]
     },
     "execution_count": 59,
     "metadata": {},
     "output_type": "execute_result"
    }
   ],
   "source": [
    "df.describe"
   ]
  },
  {
   "cell_type": "code",
   "execution_count": 60,
   "id": "standard-implement",
   "metadata": {
    "ExecuteTime": {
     "end_time": "2021-09-16T05:52:30.310283Z",
     "start_time": "2021-09-16T05:52:30.270960Z"
    }
   },
   "outputs": [
    {
     "name": "stderr",
     "output_type": "stream",
     "text": [
      "/Users/wendellwang/Developer/ML/lib/python3.9/site-packages/scipy/stats/stats.py:1603: UserWarning: kurtosistest only valid for n>=20 ... continuing anyway, n=11\n",
      "  warnings.warn(\"kurtosistest only valid for n>=20 ... continuing \"\n"
     ]
    },
    {
     "data": {
      "text/html": [
       "<table class=\"simpletable\">\n",
       "<caption>OLS Regression Results</caption>\n",
       "<tr>\n",
       "  <th>Dep. Variable:</th>          <td>Price</td>      <th>  R-squared:         </th> <td>   0.610</td>\n",
       "</tr>\n",
       "<tr>\n",
       "  <th>Model:</th>                   <td>OLS</td>       <th>  Adj. R-squared:    </th> <td>   0.512</td>\n",
       "</tr>\n",
       "<tr>\n",
       "  <th>Method:</th>             <td>Least Squares</td>  <th>  F-statistic:       </th> <td>   6.247</td>\n",
       "</tr>\n",
       "<tr>\n",
       "  <th>Date:</th>             <td>Thu, 16 Sep 2021</td> <th>  Prob (F-statistic):</th>  <td>0.0232</td> \n",
       "</tr>\n",
       "<tr>\n",
       "  <th>Time:</th>                 <td>13:52:30</td>     <th>  Log-Likelihood:    </th> <td> -44.887</td>\n",
       "</tr>\n",
       "<tr>\n",
       "  <th>No. Observations:</th>      <td>    11</td>      <th>  AIC:               </th> <td>   95.77</td>\n",
       "</tr>\n",
       "<tr>\n",
       "  <th>Df Residuals:</th>          <td>     8</td>      <th>  BIC:               </th> <td>   96.97</td>\n",
       "</tr>\n",
       "<tr>\n",
       "  <th>Df Model:</th>              <td>     2</td>      <th>                     </th>     <td> </td>   \n",
       "</tr>\n",
       "<tr>\n",
       "  <th>Covariance Type:</th>      <td>nonrobust</td>    <th>                     </th>     <td> </td>   \n",
       "</tr>\n",
       "</table>\n",
       "<table class=\"simpletable\">\n",
       "<tr>\n",
       "     <td></td>        <th>coef</th>     <th>std err</th>      <th>t</th>      <th>P>|t|</th>  <th>[0.025</th>    <th>0.975]</th>  \n",
       "</tr>\n",
       "<tr>\n",
       "  <th>const</th>   <td>  -41.1565</td> <td>   19.850</td> <td>   -2.073</td> <td> 0.072</td> <td>  -86.930</td> <td>    4.617</td>\n",
       "</tr>\n",
       "<tr>\n",
       "  <th>Color</th>   <td>    7.1180</td> <td>    2.339</td> <td>    3.043</td> <td> 0.016</td> <td>    1.724</td> <td>   12.512</td>\n",
       "</tr>\n",
       "<tr>\n",
       "  <th>Quality</th> <td>    5.8497</td> <td>    2.157</td> <td>    2.711</td> <td> 0.027</td> <td>    0.875</td> <td>   10.825</td>\n",
       "</tr>\n",
       "</table>\n",
       "<table class=\"simpletable\">\n",
       "<tr>\n",
       "  <th>Omnibus:</th>       <td> 1.855</td> <th>  Durbin-Watson:     </th> <td>   1.552</td>\n",
       "</tr>\n",
       "<tr>\n",
       "  <th>Prob(Omnibus):</th> <td> 0.396</td> <th>  Jarque-Bera (JB):  </th> <td>   1.321</td>\n",
       "</tr>\n",
       "<tr>\n",
       "  <th>Skew:</th>          <td> 0.717</td> <th>  Prob(JB):          </th> <td>   0.517</td>\n",
       "</tr>\n",
       "<tr>\n",
       "  <th>Kurtosis:</th>      <td> 2.090</td> <th>  Cond. No.          </th> <td>    30.3</td>\n",
       "</tr>\n",
       "</table><br/><br/>Notes:<br/>[1] Standard Errors assume that the covariance matrix of the errors is correctly specified."
      ],
      "text/plain": [
       "<class 'statsmodels.iolib.summary.Summary'>\n",
       "\"\"\"\n",
       "                            OLS Regression Results                            \n",
       "==============================================================================\n",
       "Dep. Variable:                  Price   R-squared:                       0.610\n",
       "Model:                            OLS   Adj. R-squared:                  0.512\n",
       "Method:                 Least Squares   F-statistic:                     6.247\n",
       "Date:                Thu, 16 Sep 2021   Prob (F-statistic):             0.0232\n",
       "Time:                        13:52:30   Log-Likelihood:                -44.887\n",
       "No. Observations:                  11   AIC:                             95.77\n",
       "Df Residuals:                       8   BIC:                             96.97\n",
       "Df Model:                           2                                         \n",
       "Covariance Type:            nonrobust                                         \n",
       "==============================================================================\n",
       "                 coef    std err          t      P>|t|      [0.025      0.975]\n",
       "------------------------------------------------------------------------------\n",
       "const        -41.1565     19.850     -2.073      0.072     -86.930       4.617\n",
       "Color          7.1180      2.339      3.043      0.016       1.724      12.512\n",
       "Quality        5.8497      2.157      2.711      0.027       0.875      10.825\n",
       "==============================================================================\n",
       "Omnibus:                        1.855   Durbin-Watson:                   1.552\n",
       "Prob(Omnibus):                  0.396   Jarque-Bera (JB):                1.321\n",
       "Skew:                           0.717   Prob(JB):                        0.517\n",
       "Kurtosis:                       2.090   Cond. No.                         30.3\n",
       "==============================================================================\n",
       "\n",
       "Notes:\n",
       "[1] Standard Errors assume that the covariance matrix of the errors is correctly specified.\n",
       "\"\"\""
      ]
     },
     "execution_count": 60,
     "metadata": {},
     "output_type": "execute_result"
    }
   ],
   "source": [
    "Xk = df[['Color', 'Quality']]\n",
    "Ym = df['Price']\n",
    "Xm = sm.add_constant(Xk)\n",
    "\n",
    "Km = sm.OLS(Ym,Xm ).fit()\n",
    "Km.summary()"
   ]
  },
  {
   "cell_type": "code",
   "execution_count": 71,
   "id": "magnetic-julian",
   "metadata": {
    "ExecuteTime": {
     "end_time": "2021-09-16T05:56:13.923072Z",
     "start_time": "2021-09-16T05:56:13.919086Z"
    }
   },
   "outputs": [],
   "source": [
    "def printModelResult(db):\n",
    "    Xk = db[['Color', 'Quality']]\n",
    "    Ym = db['Price']\n",
    "    Xm = sm.add_constant(Xk)\n",
    "\n",
    "    Km = sm.OLS(Ym,Xm ).fit()\n",
    "    print(Km.summary())"
   ]
  },
  {
   "cell_type": "code",
   "execution_count": 72,
   "id": "physical-elephant",
   "metadata": {
    "ExecuteTime": {
     "end_time": "2021-09-16T05:56:14.402032Z",
     "start_time": "2021-09-16T05:56:14.391441Z"
    }
   },
   "outputs": [
    {
     "data": {
      "text/html": [
       "<div>\n",
       "<style scoped>\n",
       "    .dataframe tbody tr th:only-of-type {\n",
       "        vertical-align: middle;\n",
       "    }\n",
       "\n",
       "    .dataframe tbody tr th {\n",
       "        vertical-align: top;\n",
       "    }\n",
       "\n",
       "    .dataframe thead th {\n",
       "        text-align: right;\n",
       "    }\n",
       "</style>\n",
       "<table border=\"1\" class=\"dataframe\">\n",
       "  <thead>\n",
       "    <tr style=\"text-align: right;\">\n",
       "      <th></th>\n",
       "      <th>Color</th>\n",
       "      <th>Quality</th>\n",
       "      <th>Price</th>\n",
       "    </tr>\n",
       "  </thead>\n",
       "  <tbody>\n",
       "    <tr>\n",
       "      <th>0</th>\n",
       "      <td>7</td>\n",
       "      <td>5</td>\n",
       "      <td>58</td>\n",
       "    </tr>\n",
       "    <tr>\n",
       "      <th>1</th>\n",
       "      <td>3</td>\n",
       "      <td>7</td>\n",
       "      <td>11</td>\n",
       "    </tr>\n",
       "    <tr>\n",
       "      <th>2</th>\n",
       "      <td>5</td>\n",
       "      <td>8</td>\n",
       "      <td>24</td>\n",
       "    </tr>\n",
       "    <tr>\n",
       "      <th>3</th>\n",
       "      <td>8</td>\n",
       "      <td>1</td>\n",
       "      <td>11</td>\n",
       "    </tr>\n",
       "    <tr>\n",
       "      <th>4</th>\n",
       "      <td>9</td>\n",
       "      <td>3</td>\n",
       "      <td>31</td>\n",
       "    </tr>\n",
       "  </tbody>\n",
       "</table>\n",
       "</div>"
      ],
      "text/plain": [
       "   Color  Quality  Price\n",
       "0      7        5     58\n",
       "1      3        7     11\n",
       "2      5        8     24\n",
       "3      8        1     11\n",
       "4      9        3     31"
      ]
     },
     "execution_count": 72,
     "metadata": {},
     "output_type": "execute_result"
    }
   ],
   "source": [
    "db = pd.read_csv('lec06.csv')\n",
    "db.head()"
   ]
  },
  {
   "cell_type": "code",
   "execution_count": 73,
   "id": "least-bobby",
   "metadata": {
    "ExecuteTime": {
     "end_time": "2021-09-16T05:56:15.065644Z",
     "start_time": "2021-09-16T05:56:15.047787Z"
    }
   },
   "outputs": [
    {
     "name": "stdout",
     "output_type": "stream",
     "text": [
      "                            OLS Regression Results                            \n",
      "==============================================================================\n",
      "Dep. Variable:                  Price   R-squared:                       0.610\n",
      "Model:                            OLS   Adj. R-squared:                  0.512\n",
      "Method:                 Least Squares   F-statistic:                     6.247\n",
      "Date:                Thu, 16 Sep 2021   Prob (F-statistic):             0.0232\n",
      "Time:                        13:56:15   Log-Likelihood:                -44.887\n",
      "No. Observations:                  11   AIC:                             95.77\n",
      "Df Residuals:                       8   BIC:                             96.97\n",
      "Df Model:                           2                                         \n",
      "Covariance Type:            nonrobust                                         \n",
      "==============================================================================\n",
      "                 coef    std err          t      P>|t|      [0.025      0.975]\n",
      "------------------------------------------------------------------------------\n",
      "const        -41.1565     19.850     -2.073      0.072     -86.930       4.617\n",
      "Color          7.1180      2.339      3.043      0.016       1.724      12.512\n",
      "Quality        5.8497      2.157      2.711      0.027       0.875      10.825\n",
      "==============================================================================\n",
      "Omnibus:                        1.855   Durbin-Watson:                   1.552\n",
      "Prob(Omnibus):                  0.396   Jarque-Bera (JB):                1.321\n",
      "Skew:                           0.717   Prob(JB):                        0.517\n",
      "Kurtosis:                       2.090   Cond. No.                         30.3\n",
      "==============================================================================\n",
      "\n",
      "Notes:\n",
      "[1] Standard Errors assume that the covariance matrix of the errors is correctly specified.\n"
     ]
    },
    {
     "name": "stderr",
     "output_type": "stream",
     "text": [
      "/Users/wendellwang/Developer/ML/lib/python3.9/site-packages/scipy/stats/stats.py:1603: UserWarning: kurtosistest only valid for n>=20 ... continuing anyway, n=11\n",
      "  warnings.warn(\"kurtosistest only valid for n>=20 ... continuing \"\n"
     ]
    }
   ],
   "source": [
    "printModelResult(db)"
   ]
  },
  {
   "cell_type": "code",
   "execution_count": 74,
   "id": "conservative-lebanon",
   "metadata": {
    "ExecuteTime": {
     "end_time": "2021-09-16T05:56:17.577367Z",
     "start_time": "2021-09-16T05:56:17.567496Z"
    }
   },
   "outputs": [
    {
     "data": {
      "text/html": [
       "<div>\n",
       "<style scoped>\n",
       "    .dataframe tbody tr th:only-of-type {\n",
       "        vertical-align: middle;\n",
       "    }\n",
       "\n",
       "    .dataframe tbody tr th {\n",
       "        vertical-align: top;\n",
       "    }\n",
       "\n",
       "    .dataframe thead th {\n",
       "        text-align: right;\n",
       "    }\n",
       "</style>\n",
       "<table border=\"1\" class=\"dataframe\">\n",
       "  <thead>\n",
       "    <tr style=\"text-align: right;\">\n",
       "      <th></th>\n",
       "      <th>Color</th>\n",
       "      <th>Quality</th>\n",
       "      <th>Price</th>\n",
       "    </tr>\n",
       "  </thead>\n",
       "  <tbody>\n",
       "    <tr>\n",
       "      <th>0</th>\n",
       "      <td>7</td>\n",
       "      <td>5</td>\n",
       "      <td>4.060443</td>\n",
       "    </tr>\n",
       "    <tr>\n",
       "      <th>1</th>\n",
       "      <td>3</td>\n",
       "      <td>7</td>\n",
       "      <td>2.397895</td>\n",
       "    </tr>\n",
       "    <tr>\n",
       "      <th>2</th>\n",
       "      <td>5</td>\n",
       "      <td>8</td>\n",
       "      <td>3.178054</td>\n",
       "    </tr>\n",
       "    <tr>\n",
       "      <th>3</th>\n",
       "      <td>8</td>\n",
       "      <td>1</td>\n",
       "      <td>2.397895</td>\n",
       "    </tr>\n",
       "    <tr>\n",
       "      <th>4</th>\n",
       "      <td>9</td>\n",
       "      <td>3</td>\n",
       "      <td>3.433987</td>\n",
       "    </tr>\n",
       "  </tbody>\n",
       "</table>\n",
       "</div>"
      ],
      "text/plain": [
       "   Color  Quality     Price\n",
       "0      7        5  4.060443\n",
       "1      3        7  2.397895\n",
       "2      5        8  3.178054\n",
       "3      8        1  2.397895\n",
       "4      9        3  3.433987"
      ]
     },
     "execution_count": 74,
     "metadata": {},
     "output_type": "execute_result"
    }
   ],
   "source": [
    "db['Price'] = np.log(db['Price'])\n",
    "db.head()"
   ]
  },
  {
   "cell_type": "code",
   "execution_count": 75,
   "id": "lucky-eating",
   "metadata": {
    "ExecuteTime": {
     "end_time": "2021-09-16T05:56:18.345520Z",
     "start_time": "2021-09-16T05:56:18.326796Z"
    }
   },
   "outputs": [
    {
     "name": "stdout",
     "output_type": "stream",
     "text": [
      "                            OLS Regression Results                            \n",
      "==============================================================================\n",
      "Dep. Variable:                  Price   R-squared:                       0.845\n",
      "Model:                            OLS   Adj. R-squared:                  0.807\n",
      "Method:                 Least Squares   F-statistic:                     21.89\n",
      "Date:                Thu, 16 Sep 2021   Prob (F-statistic):           0.000570\n",
      "Time:                        13:56:18   Log-Likelihood:                -2.8482\n",
      "No. Observations:                  11   AIC:                             11.70\n",
      "Df Residuals:                       8   BIC:                             12.89\n",
      "Df Model:                           2                                         \n",
      "Covariance Type:            nonrobust                                         \n",
      "==============================================================================\n",
      "                 coef    std err          t      P>|t|      [0.025      0.975]\n",
      "------------------------------------------------------------------------------\n",
      "const          0.1768      0.435      0.407      0.695      -0.825       1.179\n",
      "Color          0.2994      0.051      5.848      0.000       0.181       0.418\n",
      "Quality        0.2300      0.047      4.870      0.001       0.121       0.339\n",
      "==============================================================================\n",
      "Omnibus:                        0.795   Durbin-Watson:                   1.427\n",
      "Prob(Omnibus):                  0.672   Jarque-Bera (JB):                0.702\n",
      "Skew:                           0.466   Prob(JB):                        0.704\n",
      "Kurtosis:                       2.186   Cond. No.                         30.3\n",
      "==============================================================================\n",
      "\n",
      "Notes:\n",
      "[1] Standard Errors assume that the covariance matrix of the errors is correctly specified.\n"
     ]
    },
    {
     "name": "stderr",
     "output_type": "stream",
     "text": [
      "/Users/wendellwang/Developer/ML/lib/python3.9/site-packages/scipy/stats/stats.py:1603: UserWarning: kurtosistest only valid for n>=20 ... continuing anyway, n=11\n",
      "  warnings.warn(\"kurtosistest only valid for n>=20 ... continuing \"\n"
     ]
    }
   ],
   "source": [
    "printModelResult(db)"
   ]
  },
  {
   "cell_type": "code",
   "execution_count": null,
   "id": "solved-modeling",
   "metadata": {},
   "outputs": [],
   "source": []
  }
 ],
 "metadata": {
  "kernelspec": {
   "display_name": "Python (ML)",
   "language": "python",
   "name": "ml"
  },
  "language_info": {
   "codemirror_mode": {
    "name": "ipython",
    "version": 3
   },
   "file_extension": ".py",
   "mimetype": "text/x-python",
   "name": "python",
   "nbconvert_exporter": "python",
   "pygments_lexer": "ipython3",
   "version": "3.9.1"
  },
  "latex_envs": {
   "LaTeX_envs_menu_present": true,
   "autoclose": true,
   "autocomplete": true,
   "bibliofile": "biblio.bib",
   "cite_by": "apalike",
   "current_citInitial": 1,
   "eqLabelWithNumbers": true,
   "eqNumInitial": 1,
   "hotkeys": {
    "equation": "Ctrl-E",
    "itemize": "Ctrl-I"
   },
   "labels_anchors": false,
   "latex_user_defs": false,
   "report_style_numbering": false,
   "user_envs_cfg": false
  }
 },
 "nbformat": 4,
 "nbformat_minor": 5
}
