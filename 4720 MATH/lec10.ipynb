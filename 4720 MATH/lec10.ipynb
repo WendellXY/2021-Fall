{
 "cells": [
  {
   "cell_type": "code",
   "execution_count": 1,
   "id": "conservative-education",
   "metadata": {
    "ExecuteTime": {
     "end_time": "2021-10-19T06:14:30.191135Z",
     "start_time": "2021-10-19T06:14:29.382667Z"
    }
   },
   "outputs": [],
   "source": [
    "import pandas as pd\n",
    "import numpy as np"
   ]
  },
  {
   "cell_type": "code",
   "execution_count": null,
   "id": "exposed-allowance",
   "metadata": {},
   "outputs": [],
   "source": [
    "def generateData(n, beta, sigma_eps):\n",
    "    eps = np.random.normal(n,0,sigma_eps)\n",
    "    x = np.random.uniform(n,0,100)"
   ]
  }
 ],
 "metadata": {
  "kernelspec": {
   "display_name": "Python (ML)",
   "language": "python",
   "name": "ml"
  },
  "language_info": {
   "codemirror_mode": {
    "name": "ipython",
    "version": 3
   },
   "file_extension": ".py",
   "mimetype": "text/x-python",
   "name": "python",
   "nbconvert_exporter": "python",
   "pygments_lexer": "ipython3",
   "version": "3.9.1"
  },
  "latex_envs": {
   "LaTeX_envs_menu_present": true,
   "autoclose": true,
   "autocomplete": true,
   "bibliofile": "biblio.bib",
   "cite_by": "apalike",
   "current_citInitial": 1,
   "eqLabelWithNumbers": true,
   "eqNumInitial": 1,
   "hotkeys": {
    "equation": "Ctrl-E",
    "itemize": "Ctrl-I"
   },
   "labels_anchors": false,
   "latex_user_defs": false,
   "report_style_numbering": false,
   "user_envs_cfg": false
  }
 },
 "nbformat": 4,
 "nbformat_minor": 5
}
