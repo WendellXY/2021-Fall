{
 "cells": [
  {
   "cell_type": "code",
   "execution_count": 1,
   "id": "technical-bernard",
   "metadata": {
    "ExecuteTime": {
     "end_time": "2021-12-07T05:43:44.364618Z",
     "start_time": "2021-12-07T05:43:43.905529Z"
    }
   },
   "outputs": [],
   "source": [
    "from scipy.optimize import linprog"
   ]
  },
  {
   "cell_type": "markdown",
   "id": "quiet-significance",
   "metadata": {},
   "source": [
    "```\n",
    "Minimize          w = 10*y1 + 15*y2 + 25*y3\n",
    "Subject to:       y1 + y2 + y3 >= 1000\n",
    "                  y1 - 2*y2    >= 0\n",
    "                            y3 >= 340\n",
    "with              y1 >= 0, y2 >= 0\n",
    "```"
   ]
  },
  {
   "cell_type": "code",
   "execution_count": 3,
   "id": "disciplinary-gather",
   "metadata": {
    "ExecuteTime": {
     "end_time": "2021-12-07T05:46:09.436463Z",
     "start_time": "2021-12-07T05:46:09.417253Z"
    }
   },
   "outputs": [
    {
     "name": "stdout",
     "output_type": "stream",
     "text": [
      "Optimal value: 15100.0 \n",
      "X: [660.   0. 340.]\n"
     ]
    }
   ],
   "source": [
    "import numpy as np\n",
    "A = np.array([[-1, -1, -1], [-1,2, 0], [0, 0, -1], [-1, 0, 0], [0, -1, 0]])\n",
    "b = np.array([-1000, 0, -340, 0, 0])\n",
    "c = np.array([10,15,25])\n",
    "\n",
    "res = linprog(c, A_ub=A, b_ub=b,bounds=(0, None), method=\"simplex\")\n",
    "\n",
    "print('Optimal value:', res.fun, '\\nX:', res.x)"
   ]
  },
  {
   "cell_type": "code",
   "execution_count": 8,
   "id": "fixed-party",
   "metadata": {
    "ExecuteTime": {
     "end_time": "2021-12-07T05:51:51.748677Z",
     "start_time": "2021-12-07T05:51:51.739865Z"
    }
   },
   "outputs": [
    {
     "name": "stdout",
     "output_type": "stream",
     "text": [
      "Optimal value: -400.0 \n",
      "X: [4. 8.]\n"
     ]
    }
   ],
   "source": [
    "A = np.array([[1,1], [2,1], [-1,0],[0,-1]])\n",
    "b = np.array([12, 16, 0, 0])\n",
    "c = np.array([-40,-30])\n",
    "\n",
    "res = linprog(c, A_ub=A, b_ub=b,bounds=(0, None), method=\"simplex\")\n",
    "\n",
    "print('Optimal value:', res.fun, '\\nX:', res.x)"
   ]
  },
  {
   "cell_type": "code",
   "execution_count": null,
   "id": "brown-conclusion",
   "metadata": {},
   "outputs": [],
   "source": []
  }
 ],
 "metadata": {
  "kernelspec": {
   "display_name": "Python (ML)",
   "language": "python",
   "name": "ml"
  },
  "language_info": {
   "codemirror_mode": {
    "name": "ipython",
    "version": 3
   },
   "file_extension": ".py",
   "mimetype": "text/x-python",
   "name": "python",
   "nbconvert_exporter": "python",
   "pygments_lexer": "ipython3",
   "version": "3.9.1"
  },
  "latex_envs": {
   "LaTeX_envs_menu_present": true,
   "autoclose": true,
   "autocomplete": true,
   "bibliofile": "biblio.bib",
   "cite_by": "apalike",
   "current_citInitial": 1,
   "eqLabelWithNumbers": true,
   "eqNumInitial": 1,
   "hotkeys": {
    "equation": "Ctrl-E",
    "itemize": "Ctrl-I"
   },
   "labels_anchors": false,
   "latex_user_defs": false,
   "report_style_numbering": false,
   "user_envs_cfg": false
  }
 },
 "nbformat": 4,
 "nbformat_minor": 5
}
