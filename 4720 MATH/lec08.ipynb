{
 "cells": [
  {
   "cell_type": "code",
   "execution_count": 1,
   "id": "listed-negative",
   "metadata": {
    "ExecuteTime": {
     "end_time": "2021-10-12T09:55:52.329085Z",
     "start_time": "2021-10-12T09:55:51.855228Z"
    }
   },
   "outputs": [],
   "source": [
    "import pandas as pd\n",
    "import numpy as np"
   ]
  },
  {
   "cell_type": "code",
   "execution_count": 2,
   "id": "historic-nature",
   "metadata": {
    "ExecuteTime": {
     "end_time": "2021-10-12T09:55:53.038461Z",
     "start_time": "2021-10-12T09:55:52.331660Z"
    }
   },
   "outputs": [
    {
     "data": {
      "text/plain": [
       "'/Users/wendellwang/Developer/ML/lib/python3.9/site-packages/sklearn/discriminant_analysis.py'"
      ]
     },
     "execution_count": 2,
     "metadata": {},
     "output_type": "execute_result"
    }
   ],
   "source": [
    "import sklearn.discriminant_analysis\n",
    "sklearn.discriminant_analysis.__file__"
   ]
  },
  {
   "cell_type": "code",
   "execution_count": 3,
   "id": "environmental-victory",
   "metadata": {
    "ExecuteTime": {
     "end_time": "2021-10-12T09:55:53.057179Z",
     "start_time": "2021-10-12T09:55:53.042354Z"
    }
   },
   "outputs": [
    {
     "data": {
      "text/html": [
       "<div>\n",
       "<style scoped>\n",
       "    .dataframe tbody tr th:only-of-type {\n",
       "        vertical-align: middle;\n",
       "    }\n",
       "\n",
       "    .dataframe tbody tr th {\n",
       "        vertical-align: top;\n",
       "    }\n",
       "\n",
       "    .dataframe thead th {\n",
       "        text-align: right;\n",
       "    }\n",
       "</style>\n",
       "<table border=\"1\" class=\"dataframe\">\n",
       "  <thead>\n",
       "    <tr style=\"text-align: right;\">\n",
       "      <th></th>\n",
       "      <th>Y</th>\n",
       "      <th>X1</th>\n",
       "      <th>X2</th>\n",
       "      <th>X3</th>\n",
       "    </tr>\n",
       "  </thead>\n",
       "  <tbody>\n",
       "    <tr>\n",
       "      <th>0</th>\n",
       "      <td>a</td>\n",
       "      <td>191</td>\n",
       "      <td>131</td>\n",
       "      <td>53</td>\n",
       "    </tr>\n",
       "    <tr>\n",
       "      <th>1</th>\n",
       "      <td>a</td>\n",
       "      <td>185</td>\n",
       "      <td>134</td>\n",
       "      <td>50</td>\n",
       "    </tr>\n",
       "    <tr>\n",
       "      <th>2</th>\n",
       "      <td>a</td>\n",
       "      <td>200</td>\n",
       "      <td>137</td>\n",
       "      <td>52</td>\n",
       "    </tr>\n",
       "    <tr>\n",
       "      <th>3</th>\n",
       "      <td>a</td>\n",
       "      <td>173</td>\n",
       "      <td>127</td>\n",
       "      <td>50</td>\n",
       "    </tr>\n",
       "    <tr>\n",
       "      <th>4</th>\n",
       "      <td>a</td>\n",
       "      <td>171</td>\n",
       "      <td>128</td>\n",
       "      <td>49</td>\n",
       "    </tr>\n",
       "  </tbody>\n",
       "</table>\n",
       "</div>"
      ],
      "text/plain": [
       "   Y   X1   X2  X3\n",
       "0  a  191  131  53\n",
       "1  a  185  134  50\n",
       "2  a  200  137  52\n",
       "3  a  173  127  50\n",
       "4  a  171  128  49"
      ]
     },
     "execution_count": 3,
     "metadata": {},
     "output_type": "execute_result"
    }
   ],
   "source": [
    "db = pd.read_csv('insect.txt', \n",
    "                 header=None, \n",
    "                 names=['Y', 'X1', 'X2', 'X3'], \n",
    "                 sep=' ')\n",
    "db.head()"
   ]
  },
  {
   "cell_type": "code",
   "execution_count": 12,
   "id": "marine-dining",
   "metadata": {
    "ExecuteTime": {
     "end_time": "2021-10-12T09:55:53.146898Z",
     "start_time": "2021-10-12T09:55:53.143131Z"
    }
   },
   "outputs": [],
   "source": [
    "from scipy.stats import bartlett"
   ]
  },
  {
   "cell_type": "code",
   "execution_count": 134,
   "id": "imperial-apollo",
   "metadata": {
    "ExecuteTime": {
     "end_time": "2021-10-12T10:15:43.953286Z",
     "start_time": "2021-10-12T10:15:43.949269Z"
    }
   },
   "outputs": [],
   "source": [
    "stat, p = bartlett(db['X1'], db['X2'], db['X3'])"
   ]
  },
  {
   "cell_type": "code",
   "execution_count": 135,
   "id": "funded-marriage",
   "metadata": {
    "ExecuteTime": {
     "end_time": "2021-10-12T10:15:44.732907Z",
     "start_time": "2021-10-12T10:15:44.727870Z"
    }
   },
   "outputs": [
    {
     "data": {
      "text/plain": [
       "1.0685193072965499e-12"
      ]
     },
     "execution_count": 135,
     "metadata": {},
     "output_type": "execute_result"
    }
   ],
   "source": [
    "p"
   ]
  },
  {
   "cell_type": "code",
   "execution_count": 136,
   "id": "dying-socket",
   "metadata": {
    "ExecuteTime": {
     "end_time": "2021-10-12T10:15:45.099601Z",
     "start_time": "2021-10-12T10:15:45.095955Z"
    }
   },
   "outputs": [
    {
     "data": {
      "text/plain": [
       "55.12949450156246"
      ]
     },
     "execution_count": 136,
     "metadata": {},
     "output_type": "execute_result"
    }
   ],
   "source": [
    "stat"
   ]
  },
  {
   "cell_type": "code",
   "execution_count": 137,
   "id": "touched-navigator",
   "metadata": {
    "ExecuteTime": {
     "end_time": "2021-10-12T10:15:45.567164Z",
     "start_time": "2021-10-12T10:15:45.559320Z"
    }
   },
   "outputs": [
    {
     "data": {
      "text/plain": [
       "[441.9236842105263, 85.83157894736841, 7.694736842105264]"
      ]
     },
     "execution_count": 137,
     "metadata": {},
     "output_type": "execute_result"
    }
   ],
   "source": [
    "[np.var(x, ddof=1) for x in [db['X1'], db['X2'], db['X3']]]"
   ]
  },
  {
   "cell_type": "code",
   "execution_count": 157,
   "id": "regular-laundry",
   "metadata": {
    "ExecuteTime": {
     "end_time": "2021-10-12T10:27:51.865519Z",
     "start_time": "2021-10-12T10:27:51.862329Z"
    }
   },
   "outputs": [],
   "source": [
    "from sklearn.discriminant_analysis import LinearDiscriminantAnalysis as LDA"
   ]
  },
  {
   "cell_type": "code",
   "execution_count": 158,
   "id": "crucial-complex",
   "metadata": {
    "ExecuteTime": {
     "end_time": "2021-10-12T10:27:52.220554Z",
     "start_time": "2021-10-12T10:27:52.216926Z"
    }
   },
   "outputs": [],
   "source": [
    "model = LDA(store_covariance=True)"
   ]
  },
  {
   "cell_type": "code",
   "execution_count": 159,
   "id": "talented-morgan",
   "metadata": {
    "ExecuteTime": {
     "end_time": "2021-10-12T10:27:52.528723Z",
     "start_time": "2021-10-12T10:27:52.525071Z"
    }
   },
   "outputs": [],
   "source": [
    "Y = np.array(db['Y'])\n",
    "X = np.array(db[['X1', 'X2', 'X3']])"
   ]
  },
  {
   "cell_type": "code",
   "execution_count": 160,
   "id": "velvet-gilbert",
   "metadata": {
    "ExecuteTime": {
     "end_time": "2021-10-12T10:27:52.859006Z",
     "start_time": "2021-10-12T10:27:52.850356Z"
    }
   },
   "outputs": [
    {
     "data": {
      "text/plain": [
       "LinearDiscriminantAnalysis(store_covariance=True)"
      ]
     },
     "execution_count": 160,
     "metadata": {},
     "output_type": "execute_result"
    }
   ],
   "source": [
    "model.fit(X,Y)"
   ]
  },
  {
   "cell_type": "code",
   "execution_count": 161,
   "id": "entertaining-machinery",
   "metadata": {
    "ExecuteTime": {
     "end_time": "2021-10-12T10:27:53.180595Z",
     "start_time": "2021-10-12T10:27:53.177212Z"
    }
   },
   "outputs": [
    {
     "name": "stdout",
     "output_type": "stream",
     "text": [
      "['a']\n"
     ]
    }
   ],
   "source": [
    "print(model.predict([[191, 131, 53]]))"
   ]
  },
  {
   "attachments": {},
   "cell_type": "markdown",
   "id": "martial-evolution",
   "metadata": {},
   "source": [
    "**Due to the limitations of sklearn, we were not able to get the linear discriminant functions for the two species separately**. We could only get the coefficients and intercept of the final result $(\\hat{d_b^L}(x)-\\hat{d_a^L}(x))$"
   ]
  },
  {
   "cell_type": "code",
   "execution_count": 165,
   "id": "compatible-craft",
   "metadata": {
    "ExecuteTime": {
     "end_time": "2021-10-12T10:33:02.087923Z",
     "start_time": "2021-10-12T10:33:02.075489Z"
    }
   },
   "outputs": [
    {
     "data": {
      "text/plain": [
       "array([[ 0.67922537, -0.40785906, -2.70428038]])"
      ]
     },
     "execution_count": 165,
     "metadata": {},
     "output_type": "execute_result"
    }
   ],
   "source": [
    "model.coef_"
   ]
  },
  {
   "cell_type": "code",
   "execution_count": 166,
   "id": "worst-orchestra",
   "metadata": {
    "ExecuteTime": {
     "end_time": "2021-10-12T10:33:02.756411Z",
     "start_time": "2021-10-12T10:33:02.750552Z"
    }
   },
   "outputs": [
    {
     "data": {
      "text/plain": [
       "array([54.09784031])"
      ]
     },
     "execution_count": 166,
     "metadata": {},
     "output_type": "execute_result"
    }
   ],
   "source": [
    "model.intercept_"
   ]
  },
  {
   "cell_type": "markdown",
   "id": "induced-creator",
   "metadata": {},
   "source": [
    "So, as the code above shown, the linear discriminant function of $(\\hat{d_b^L}(x)-\\hat{d_a^L}(x))$ is\n",
    "$$\n",
    "(\\hat{d_b^L}(x)-\\hat{d_a^L}(x)) = 54.098 + 0.679x_1 -0.408x_2-2.704x_3\n",
    "$$\n",
    "which also matches the substraction result from the website https://online.stat.psu.edu/stat505/lesson/10/10.4\n",
    "$$\n",
    "\\hat{d_a^L}(x) = -247.276 -1.417x_1 +1.520x_2+10.954x_3\n",
    "$$\n",
    "$$\n",
    "\\hat{d_b^L}(x) = -193.178 -0.738x_1 +1.113x_2+8.250x_3\n",
    "$$"
   ]
  }
 ],
 "metadata": {
  "kernelspec": {
   "display_name": "Python (ML)",
   "language": "python",
   "name": "ml"
  },
  "language_info": {
   "codemirror_mode": {
    "name": "ipython",
    "version": 3
   },
   "file_extension": ".py",
   "mimetype": "text/x-python",
   "name": "python",
   "nbconvert_exporter": "python",
   "pygments_lexer": "ipython3",
   "version": "3.9.1"
  },
  "latex_envs": {
   "LaTeX_envs_menu_present": true,
   "autoclose": true,
   "autocomplete": true,
   "bibliofile": "biblio.bib",
   "cite_by": "apalike",
   "current_citInitial": 1,
   "eqLabelWithNumbers": true,
   "eqNumInitial": 1,
   "hotkeys": {
    "equation": "Ctrl-E",
    "itemize": "Ctrl-I"
   },
   "labels_anchors": false,
   "latex_user_defs": false,
   "report_style_numbering": false,
   "user_envs_cfg": false
  }
 },
 "nbformat": 4,
 "nbformat_minor": 5
}
