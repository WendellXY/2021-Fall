{
 "cells": [
  {
   "cell_type": "code",
   "execution_count": 1,
   "id": "listed-negative",
   "metadata": {
    "ExecuteTime": {
     "end_time": "2021-09-30T05:18:38.247527Z",
     "start_time": "2021-09-30T05:18:30.696581Z"
    }
   },
   "outputs": [],
   "source": [
    "import pandas as pd\n",
    "import numpy as np"
   ]
  },
  {
   "cell_type": "code",
   "execution_count": 6,
   "id": "environmental-victory",
   "metadata": {
    "ExecuteTime": {
     "end_time": "2021-09-30T05:31:43.941095Z",
     "start_time": "2021-09-30T05:31:43.928181Z"
    }
   },
   "outputs": [
    {
     "data": {
      "text/html": [
       "<div>\n",
       "<style scoped>\n",
       "    .dataframe tbody tr th:only-of-type {\n",
       "        vertical-align: middle;\n",
       "    }\n",
       "\n",
       "    .dataframe tbody tr th {\n",
       "        vertical-align: top;\n",
       "    }\n",
       "\n",
       "    .dataframe thead th {\n",
       "        text-align: right;\n",
       "    }\n",
       "</style>\n",
       "<table border=\"1\" class=\"dataframe\">\n",
       "  <thead>\n",
       "    <tr style=\"text-align: right;\">\n",
       "      <th></th>\n",
       "      <th>Y</th>\n",
       "      <th>X1</th>\n",
       "      <th>X2</th>\n",
       "      <th>X3</th>\n",
       "    </tr>\n",
       "  </thead>\n",
       "  <tbody>\n",
       "    <tr>\n",
       "      <th>0</th>\n",
       "      <td>a</td>\n",
       "      <td>191</td>\n",
       "      <td>131</td>\n",
       "      <td>53</td>\n",
       "    </tr>\n",
       "    <tr>\n",
       "      <th>1</th>\n",
       "      <td>a</td>\n",
       "      <td>185</td>\n",
       "      <td>134</td>\n",
       "      <td>50</td>\n",
       "    </tr>\n",
       "    <tr>\n",
       "      <th>2</th>\n",
       "      <td>a</td>\n",
       "      <td>200</td>\n",
       "      <td>137</td>\n",
       "      <td>52</td>\n",
       "    </tr>\n",
       "    <tr>\n",
       "      <th>3</th>\n",
       "      <td>a</td>\n",
       "      <td>173</td>\n",
       "      <td>127</td>\n",
       "      <td>50</td>\n",
       "    </tr>\n",
       "    <tr>\n",
       "      <th>4</th>\n",
       "      <td>a</td>\n",
       "      <td>171</td>\n",
       "      <td>128</td>\n",
       "      <td>49</td>\n",
       "    </tr>\n",
       "  </tbody>\n",
       "</table>\n",
       "</div>"
      ],
      "text/plain": [
       "   Y   X1   X2  X3\n",
       "0  a  191  131  53\n",
       "1  a  185  134  50\n",
       "2  a  200  137  52\n",
       "3  a  173  127  50\n",
       "4  a  171  128  49"
      ]
     },
     "execution_count": 6,
     "metadata": {},
     "output_type": "execute_result"
    }
   ],
   "source": [
    "db = pd.read_csv('insect.txt', \n",
    "                 header=None, \n",
    "                 names=['Y', 'X1', 'X2', 'X3'], \n",
    "                 sep=' ')\n",
    "db.head()"
   ]
  },
  {
   "cell_type": "code",
   "execution_count": 7,
   "id": "regular-laundry",
   "metadata": {
    "ExecuteTime": {
     "end_time": "2021-09-30T05:40:12.949527Z",
     "start_time": "2021-09-30T05:40:03.895104Z"
    }
   },
   "outputs": [],
   "source": [
    "from sklearn.discriminant_analysis import LinearDiscriminantAnalysis as LDA"
   ]
  },
  {
   "cell_type": "code",
   "execution_count": 8,
   "id": "crucial-complex",
   "metadata": {
    "ExecuteTime": {
     "end_time": "2021-09-30T05:44:25.492329Z",
     "start_time": "2021-09-30T05:44:25.489216Z"
    }
   },
   "outputs": [],
   "source": [
    "model = LDA()"
   ]
  },
  {
   "cell_type": "code",
   "execution_count": 20,
   "id": "talented-morgan",
   "metadata": {
    "ExecuteTime": {
     "end_time": "2021-09-30T05:47:39.847056Z",
     "start_time": "2021-09-30T05:47:39.842795Z"
    }
   },
   "outputs": [],
   "source": [
    "Y = np.array(db['Y'])\n",
    "X = np.array(db[['X1', 'X2', 'X3']])"
   ]
  },
  {
   "cell_type": "code",
   "execution_count": 22,
   "id": "velvet-gilbert",
   "metadata": {
    "ExecuteTime": {
     "end_time": "2021-09-30T05:47:59.966393Z",
     "start_time": "2021-09-30T05:47:59.951785Z"
    }
   },
   "outputs": [
    {
     "data": {
      "text/plain": [
       "LinearDiscriminantAnalysis()"
      ]
     },
     "execution_count": 22,
     "metadata": {},
     "output_type": "execute_result"
    }
   ],
   "source": [
    "model.fit(X,Y)"
   ]
  },
  {
   "cell_type": "code",
   "execution_count": 25,
   "id": "entertaining-machinery",
   "metadata": {
    "ExecuteTime": {
     "end_time": "2021-09-30T05:48:35.552492Z",
     "start_time": "2021-09-30T05:48:35.542965Z"
    }
   },
   "outputs": [
    {
     "name": "stdout",
     "output_type": "stream",
     "text": [
      "['a']\n"
     ]
    }
   ],
   "source": [
    "print(model.predict([[190, 131, 53]]))"
   ]
  },
  {
   "cell_type": "code",
   "execution_count": 26,
   "id": "marine-dining",
   "metadata": {
    "ExecuteTime": {
     "end_time": "2021-09-30T05:49:06.273332Z",
     "start_time": "2021-09-30T05:49:06.270610Z"
    }
   },
   "outputs": [],
   "source": [
    "from scipy.stats import bartlett"
   ]
  },
  {
   "cell_type": "code",
   "execution_count": 28,
   "id": "imperial-apollo",
   "metadata": {
    "ExecuteTime": {
     "end_time": "2021-09-30T05:49:37.415043Z",
     "start_time": "2021-09-30T05:49:37.410768Z"
    }
   },
   "outputs": [],
   "source": [
    "stat, p = bartlett(db['X1'], db['X2'], db['X3'])"
   ]
  },
  {
   "cell_type": "code",
   "execution_count": 29,
   "id": "funded-marriage",
   "metadata": {
    "ExecuteTime": {
     "end_time": "2021-09-30T05:49:40.572314Z",
     "start_time": "2021-09-30T05:49:40.568385Z"
    }
   },
   "outputs": [
    {
     "data": {
      "text/plain": [
       "1.0685193072965499e-12"
      ]
     },
     "execution_count": 29,
     "metadata": {},
     "output_type": "execute_result"
    }
   ],
   "source": [
    "p"
   ]
  },
  {
   "cell_type": "code",
   "execution_count": 30,
   "id": "dying-socket",
   "metadata": {
    "ExecuteTime": {
     "end_time": "2021-09-30T05:49:56.039788Z",
     "start_time": "2021-09-30T05:49:56.035901Z"
    }
   },
   "outputs": [
    {
     "data": {
      "text/plain": [
       "55.12949450156246"
      ]
     },
     "execution_count": 30,
     "metadata": {},
     "output_type": "execute_result"
    }
   ],
   "source": [
    "stat"
   ]
  },
  {
   "cell_type": "code",
   "execution_count": 31,
   "id": "touched-navigator",
   "metadata": {
    "ExecuteTime": {
     "end_time": "2021-09-30T05:57:33.497673Z",
     "start_time": "2021-09-30T05:57:33.491804Z"
    }
   },
   "outputs": [
    {
     "data": {
      "text/plain": [
       "[441.9236842105263, 85.83157894736841, 7.694736842105264]"
      ]
     },
     "execution_count": 31,
     "metadata": {},
     "output_type": "execute_result"
    }
   ],
   "source": [
    "[np.var(x, ddof=1) for x in [db['X1'], db['X2'], db['X3']]]"
   ]
  }
 ],
 "metadata": {
  "kernelspec": {
   "display_name": "Python (ML)",
   "language": "python",
   "name": "ml"
  },
  "language_info": {
   "codemirror_mode": {
    "name": "ipython",
    "version": 3
   },
   "file_extension": ".py",
   "mimetype": "text/x-python",
   "name": "python",
   "nbconvert_exporter": "python",
   "pygments_lexer": "ipython3",
   "version": "3.9.1"
  },
  "latex_envs": {
   "LaTeX_envs_menu_present": true,
   "autoclose": true,
   "autocomplete": true,
   "bibliofile": "biblio.bib",
   "cite_by": "apalike",
   "current_citInitial": 1,
   "eqLabelWithNumbers": true,
   "eqNumInitial": 1,
   "hotkeys": {
    "equation": "Ctrl-E",
    "itemize": "Ctrl-I"
   },
   "labels_anchors": false,
   "latex_user_defs": false,
   "report_style_numbering": false,
   "user_envs_cfg": false
  }
 },
 "nbformat": 4,
 "nbformat_minor": 5
}
