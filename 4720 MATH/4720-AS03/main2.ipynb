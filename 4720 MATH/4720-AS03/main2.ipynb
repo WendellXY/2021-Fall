{
 "cells": [
  {
   "cell_type": "code",
   "execution_count": 94,
   "id": "coordinate-petite",
   "metadata": {
    "ExecuteTime": {
     "end_time": "2021-09-15T17:13:24.090412Z",
     "start_time": "2021-09-15T17:13:24.084297Z"
    }
   },
   "outputs": [],
   "source": [
    "import pandas as pd\n",
    "import numpy as np\n",
    "from matplotlib import pyplot as plt\n",
    "\n",
    "\n",
    "# below function will update the Linear Regression\n",
    "# co-efficient beta and return the updated beta\n",
    "def gradient_descent(x, y, beta, alpha, m, iterations_num):\n",
    "    # Variable to hold  is the transpose of x\n",
    "    x_transposed = x.T\n",
    "    \n",
    "    mse = []\n",
    "\n",
    "    # .T and the transpose() call both return the transpose of the array.\n",
    "    # In fact, .T return the transpose of the array,\n",
    "    # while transpose() is a more general method, that can be given\n",
    "    # axes (transpose(*axes), with defaults that make the call transpose() equivalent to .T\n",
    "    # .T is just a convenient notation,\n",
    "\n",
    "    for i in range(0, iterations_num):\n",
    "        hypothesis = np.dot(x, beta)\n",
    "\n",
    "        # hypothesis - y is the first part of the square loss' gradient\n",
    "        # (as a vector form for each component), and this is set to the loss variable.\n",
    "\n",
    "        loss = hypothesis - y\n",
    "\n",
    "        cost = np.sum(loss ** 2) / (2*m)\n",
    "        \n",
    "        mse.append(cost)\n",
    "\n",
    "        # Now calculate the Vectorized Gradient from our earlier defined formulae\n",
    "\n",
    "        vectorized_gradient = np.dot(x_transposed, loss) / m\n",
    "\n",
    "        # now with above gradient update beta\n",
    "        beta = beta - alpha * vectorized_gradient\n",
    "\n",
    "        return mse, beta"
   ]
  },
  {
   "cell_type": "code",
   "execution_count": 90,
   "id": "atlantic-activation",
   "metadata": {
    "ExecuteTime": {
     "end_time": "2021-09-15T17:13:08.006529Z",
     "start_time": "2021-09-15T17:13:07.993652Z"
    }
   },
   "outputs": [],
   "source": [
    "db = pd.read_excel(\n",
    "'db_lec3.xls',\n",
    "sheet_name='db_lec3',\n",
    "header=0\n",
    ")\n",
    "db = pd.concat([pd.Series(1, index=db.index, name='00'), db], axis=1)\n",
    "x = db.values[:, 0:4]  # get input values from first two columns\n",
    "y = db.values[:, 4]  # get output values from last coulmn"
   ]
  },
  {
   "cell_type": "code",
   "execution_count": 91,
   "id": "democratic-magazine",
   "metadata": {
    "ExecuteTime": {
     "end_time": "2021-09-15T17:13:09.085828Z",
     "start_time": "2021-09-15T17:13:09.077363Z"
    }
   },
   "outputs": [
    {
     "data": {
      "text/html": [
       "<div>\n",
       "<style scoped>\n",
       "    .dataframe tbody tr th:only-of-type {\n",
       "        vertical-align: middle;\n",
       "    }\n",
       "\n",
       "    .dataframe tbody tr th {\n",
       "        vertical-align: top;\n",
       "    }\n",
       "\n",
       "    .dataframe thead th {\n",
       "        text-align: right;\n",
       "    }\n",
       "</style>\n",
       "<table border=\"1\" class=\"dataframe\">\n",
       "  <thead>\n",
       "    <tr style=\"text-align: right;\">\n",
       "      <th></th>\n",
       "      <th>00</th>\n",
       "      <th>EXAM1</th>\n",
       "      <th>EXAM2</th>\n",
       "      <th>EXAM3</th>\n",
       "      <th>FINAL</th>\n",
       "    </tr>\n",
       "  </thead>\n",
       "  <tbody>\n",
       "    <tr>\n",
       "      <th>0</th>\n",
       "      <td>1</td>\n",
       "      <td>73</td>\n",
       "      <td>80</td>\n",
       "      <td>75</td>\n",
       "      <td>152</td>\n",
       "    </tr>\n",
       "    <tr>\n",
       "      <th>1</th>\n",
       "      <td>1</td>\n",
       "      <td>93</td>\n",
       "      <td>88</td>\n",
       "      <td>93</td>\n",
       "      <td>185</td>\n",
       "    </tr>\n",
       "    <tr>\n",
       "      <th>2</th>\n",
       "      <td>1</td>\n",
       "      <td>89</td>\n",
       "      <td>91</td>\n",
       "      <td>90</td>\n",
       "      <td>180</td>\n",
       "    </tr>\n",
       "    <tr>\n",
       "      <th>3</th>\n",
       "      <td>1</td>\n",
       "      <td>96</td>\n",
       "      <td>98</td>\n",
       "      <td>100</td>\n",
       "      <td>196</td>\n",
       "    </tr>\n",
       "    <tr>\n",
       "      <th>4</th>\n",
       "      <td>1</td>\n",
       "      <td>73</td>\n",
       "      <td>66</td>\n",
       "      <td>70</td>\n",
       "      <td>142</td>\n",
       "    </tr>\n",
       "  </tbody>\n",
       "</table>\n",
       "</div>"
      ],
      "text/plain": [
       "   00  EXAM1  EXAM2  EXAM3  FINAL\n",
       "0   1     73     80     75    152\n",
       "1   1     93     88     93    185\n",
       "2   1     89     91     90    180\n",
       "3   1     96     98    100    196\n",
       "4   1     73     66     70    142"
      ]
     },
     "execution_count": 91,
     "metadata": {},
     "output_type": "execute_result"
    }
   ],
   "source": [
    "db.head()"
   ]
  },
  {
   "cell_type": "code",
   "execution_count": 92,
   "id": "widespread-portugal",
   "metadata": {
    "ExecuteTime": {
     "end_time": "2021-09-15T17:13:11.338669Z",
     "start_time": "2021-09-15T17:13:11.333595Z"
    }
   },
   "outputs": [
    {
     "data": {
      "text/plain": [
       "(array([152, 185, 180, 196, 142, 101, 149, 115, 175, 164, 141, 141, 184,\n",
       "        152, 148, 192, 147, 183, 177, 159, 177, 175, 175, 149, 192]),\n",
       " array([[  1,  73,  80,  75],\n",
       "        [  1,  93,  88,  93],\n",
       "        [  1,  89,  91,  90],\n",
       "        [  1,  96,  98, 100],\n",
       "        [  1,  73,  66,  70],\n",
       "        [  1,  53,  46,  55],\n",
       "        [  1,  69,  74,  77],\n",
       "        [  1,  47,  56,  60],\n",
       "        [  1,  87,  79,  90],\n",
       "        [  1,  79,  70,  88],\n",
       "        [  1,  69,  70,  73],\n",
       "        [  1,  70,  65,  74],\n",
       "        [  1,  93,  95,  91],\n",
       "        [  1,  79,  80,  73],\n",
       "        [  1,  70,  73,  78],\n",
       "        [  1,  93,  89,  96],\n",
       "        [  1,  78,  75,  68],\n",
       "        [  1,  81,  90,  93],\n",
       "        [  1,  88,  92,  86],\n",
       "        [  1,  78,  83,  77],\n",
       "        [  1,  82,  86,  90],\n",
       "        [  1,  86,  82,  89],\n",
       "        [  1,  78,  83,  85],\n",
       "        [  1,  76,  83,  71],\n",
       "        [  1,  96,  93,  95]]))"
      ]
     },
     "execution_count": 92,
     "metadata": {},
     "output_type": "execute_result"
    }
   ],
   "source": [
    "y, x"
   ]
  },
  {
   "cell_type": "code",
   "execution_count": 95,
   "id": "married-regard",
   "metadata": {
    "ExecuteTime": {
     "end_time": "2021-09-15T17:13:26.489819Z",
     "start_time": "2021-09-15T17:13:26.330672Z"
    }
   },
   "outputs": [
    {
     "data": {
      "image/png": "[encoded data removed]",
      "text/plain": [
       "<Figure size 432x288 with 1 Axes>"
      ]
     },
     "metadata": {
      "needs_background": "light"
     },
     "output_type": "display_data"
    }
   ],
   "source": [
    "m, n = np.shape(x)\n",
    "num_of_iterations = 100\n",
    "alpha = 2\n",
    "beta = np.ones(n)\n",
    "mse, w = gradient_descent(x, y, beta, alpha, m, num_of_iterations)\n",
    "plt.plot(x[:,1], y, \"x\")\n",
    "plt.plot(x[:,1], x * w, \"r-\")\n",
    "plt.show()"
   ]
  },
  {
   "cell_type": "code",
   "execution_count": 96,
   "id": "hazardous-mercy",
   "metadata": {
    "ExecuteTime": {
     "end_time": "2021-09-15T17:13:29.424350Z",
     "start_time": "2021-09-15T17:13:29.420511Z"
    }
   },
   "outputs": [
    {
     "name": "stdout",
     "output_type": "stream",
     "text": [
      "The parameters a, b, c, c are  [  -156.92 -12747.56 -12818.92 -13090.68]\n"
     ]
    }
   ],
   "source": [
    "print(\"The parameters a, b, c, c are \", w)"
   ]
  },
  {
   "cell_type": "code",
   "execution_count": 97,
   "id": "fluid-deadline",
   "metadata": {
    "ExecuteTime": {
     "end_time": "2021-09-15T17:13:31.727775Z",
     "start_time": "2021-09-15T17:13:31.724014Z"
    }
   },
   "outputs": [
    {
     "name": "stdout",
     "output_type": "stream",
     "text": [
      "The beta vector is  [1. 1. 1. 1.]\n"
     ]
    }
   ],
   "source": [
    "print(\"The beta vector is \", beta)"
   ]
  },
  {
   "cell_type": "code",
   "execution_count": 98,
   "id": "departmental-primary",
   "metadata": {
    "ExecuteTime": {
     "end_time": "2021-09-15T17:13:42.837616Z",
     "start_time": "2021-09-15T17:13:42.834397Z"
    }
   },
   "outputs": [
    {
     "name": "stdout",
     "output_type": "stream",
     "text": [
      "MSE:  [3184.44]\n"
     ]
    }
   ],
   "source": [
    "print(\"MSE: \", mse)"
   ]
  },
  {
   "cell_type": "code",
   "execution_count": 99,
   "id": "cooked-stake",
   "metadata": {
    "ExecuteTime": {
     "end_time": "2021-09-15T17:13:45.650390Z",
     "start_time": "2021-09-15T17:13:45.646076Z"
    }
   },
   "outputs": [
    {
     "data": {
      "text/plain": [
       "[3184.44]"
      ]
     },
     "execution_count": 99,
     "metadata": {},
     "output_type": "execute_result"
    }
   ],
   "source": [
    "mse"
   ]
  },
  {
   "cell_type": "code",
   "execution_count": null,
   "id": "sudden-repeat",
   "metadata": {},
   "outputs": [],
   "source": []
  }
 ],
 "metadata": {
  "kernelspec": {
   "display_name": "Python (ML)",
   "language": "python",
   "name": "ml"
  },
  "language_info": {
   "codemirror_mode": {
    "name": "ipython",
    "version": 3
   },
   "file_extension": ".py",
   "mimetype": "text/x-python",
   "name": "python",
   "nbconvert_exporter": "python",
   "pygments_lexer": "ipython3",
   "version": "3.9.1"
  },
  "latex_envs": {
   "LaTeX_envs_menu_present": true,
   "autoclose": true,
   "autocomplete": true,
   "bibliofile": "biblio.bib",
   "cite_by": "apalike",
   "current_citInitial": 1,
   "eqLabelWithNumbers": true,
   "eqNumInitial": 1,
   "hotkeys": {
    "equation": "Ctrl-E",
    "itemize": "Ctrl-I"
   },
   "labels_anchors": false,
   "latex_user_defs": false,
   "report_style_numbering": false,
   "user_envs_cfg": false
  }
 },
 "nbformat": 4,
 "nbformat_minor": 5
}
