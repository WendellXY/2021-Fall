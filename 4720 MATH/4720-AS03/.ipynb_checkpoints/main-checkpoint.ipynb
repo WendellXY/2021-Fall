{
 "cells": [
  {
   "cell_type": "code",
   "execution_count": 1,
   "id": "intimate-attack",
   "metadata": {
    "ExecuteTime": {
     "end_time": "2021-09-15T15:48:24.273349Z",
     "start_time": "2021-09-15T15:48:23.756250Z"
    }
   },
   "outputs": [],
   "source": [
    "import pandas as pd\n",
    "import numpy as np"
   ]
  },
  {
   "cell_type": "code",
   "execution_count": 114,
   "id": "decimal-strand",
   "metadata": {
    "ExecuteTime": {
     "end_time": "2021-09-15T17:14:36.753811Z",
     "start_time": "2021-09-15T17:14:36.732084Z"
    },
    "scrolled": false
   },
   "outputs": [
    {
     "data": {
      "text/html": [
       "<div>\n",
       "<style scoped>\n",
       "    .dataframe tbody tr th:only-of-type {\n",
       "        vertical-align: middle;\n",
       "    }\n",
       "\n",
       "    .dataframe tbody tr th {\n",
       "        vertical-align: top;\n",
       "    }\n",
       "\n",
       "    .dataframe thead th {\n",
       "        text-align: right;\n",
       "    }\n",
       "</style>\n",
       "<table border=\"1\" class=\"dataframe\">\n",
       "  <thead>\n",
       "    <tr style=\"text-align: right;\">\n",
       "      <th></th>\n",
       "      <th>00</th>\n",
       "      <th>EXAM1</th>\n",
       "      <th>EXAM2</th>\n",
       "      <th>EXAM3</th>\n",
       "      <th>FINAL</th>\n",
       "    </tr>\n",
       "  </thead>\n",
       "  <tbody>\n",
       "    <tr>\n",
       "      <th>0</th>\n",
       "      <td>1</td>\n",
       "      <td>73</td>\n",
       "      <td>80</td>\n",
       "      <td>75</td>\n",
       "      <td>152</td>\n",
       "    </tr>\n",
       "    <tr>\n",
       "      <th>1</th>\n",
       "      <td>1</td>\n",
       "      <td>93</td>\n",
       "      <td>88</td>\n",
       "      <td>93</td>\n",
       "      <td>185</td>\n",
       "    </tr>\n",
       "    <tr>\n",
       "      <th>2</th>\n",
       "      <td>1</td>\n",
       "      <td>89</td>\n",
       "      <td>91</td>\n",
       "      <td>90</td>\n",
       "      <td>180</td>\n",
       "    </tr>\n",
       "    <tr>\n",
       "      <th>3</th>\n",
       "      <td>1</td>\n",
       "      <td>96</td>\n",
       "      <td>98</td>\n",
       "      <td>100</td>\n",
       "      <td>196</td>\n",
       "    </tr>\n",
       "    <tr>\n",
       "      <th>4</th>\n",
       "      <td>1</td>\n",
       "      <td>73</td>\n",
       "      <td>66</td>\n",
       "      <td>70</td>\n",
       "      <td>142</td>\n",
       "    </tr>\n",
       "  </tbody>\n",
       "</table>\n",
       "</div>"
      ],
      "text/plain": [
       "   00  EXAM1  EXAM2  EXAM3  FINAL\n",
       "0   1     73     80     75    152\n",
       "1   1     93     88     93    185\n",
       "2   1     89     91     90    180\n",
       "3   1     96     98    100    196\n",
       "4   1     73     66     70    142"
      ]
     },
     "execution_count": 114,
     "metadata": {},
     "output_type": "execute_result"
    }
   ],
   "source": [
    "db = pd.read_excel(\n",
    "    'db_lec3.xls',\n",
    "    sheet_name='db_lec3',\n",
    "    header=0\n",
    ")\n",
    "db = pd.concat([pd.Series(1, index=df.index, name='00'), db], axis=1)\n",
    "db.head()"
   ]
  },
  {
   "cell_type": "code",
   "execution_count": 115,
   "id": "short-intranet",
   "metadata": {
    "ExecuteTime": {
     "end_time": "2021-09-15T17:14:37.449170Z",
     "start_time": "2021-09-15T17:14:37.444732Z"
    }
   },
   "outputs": [],
   "source": [
    "X = db.drop(columns='FINAL')\n",
    "y = db.iloc[:, 4]"
   ]
  },
  {
   "cell_type": "code",
   "execution_count": 116,
   "id": "separated-samuel",
   "metadata": {
    "ExecuteTime": {
     "end_time": "2021-09-15T17:14:38.154460Z",
     "start_time": "2021-09-15T17:14:38.141103Z"
    },
    "scrolled": false
   },
   "outputs": [
    {
     "data": {
      "text/html": [
       "<div>\n",
       "<style scoped>\n",
       "    .dataframe tbody tr th:only-of-type {\n",
       "        vertical-align: middle;\n",
       "    }\n",
       "\n",
       "    .dataframe tbody tr th {\n",
       "        vertical-align: top;\n",
       "    }\n",
       "\n",
       "    .dataframe thead th {\n",
       "        text-align: right;\n",
       "    }\n",
       "</style>\n",
       "<table border=\"1\" class=\"dataframe\">\n",
       "  <thead>\n",
       "    <tr style=\"text-align: right;\">\n",
       "      <th></th>\n",
       "      <th>00</th>\n",
       "      <th>EXAM1</th>\n",
       "      <th>EXAM2</th>\n",
       "      <th>EXAM3</th>\n",
       "    </tr>\n",
       "  </thead>\n",
       "  <tbody>\n",
       "    <tr>\n",
       "      <th>0</th>\n",
       "      <td>1.0</td>\n",
       "      <td>0.760417</td>\n",
       "      <td>0.816327</td>\n",
       "      <td>0.75</td>\n",
       "    </tr>\n",
       "    <tr>\n",
       "      <th>1</th>\n",
       "      <td>1.0</td>\n",
       "      <td>0.968750</td>\n",
       "      <td>0.897959</td>\n",
       "      <td>0.93</td>\n",
       "    </tr>\n",
       "    <tr>\n",
       "      <th>2</th>\n",
       "      <td>1.0</td>\n",
       "      <td>0.927083</td>\n",
       "      <td>0.928571</td>\n",
       "      <td>0.90</td>\n",
       "    </tr>\n",
       "    <tr>\n",
       "      <th>3</th>\n",
       "      <td>1.0</td>\n",
       "      <td>1.000000</td>\n",
       "      <td>1.000000</td>\n",
       "      <td>1.00</td>\n",
       "    </tr>\n",
       "    <tr>\n",
       "      <th>4</th>\n",
       "      <td>1.0</td>\n",
       "      <td>0.760417</td>\n",
       "      <td>0.673469</td>\n",
       "      <td>0.70</td>\n",
       "    </tr>\n",
       "  </tbody>\n",
       "</table>\n",
       "</div>"
      ],
      "text/plain": [
       "    00     EXAM1     EXAM2  EXAM3\n",
       "0  1.0  0.760417  0.816327   0.75\n",
       "1  1.0  0.968750  0.897959   0.93\n",
       "2  1.0  0.927083  0.928571   0.90\n",
       "3  1.0  1.000000  1.000000   1.00\n",
       "4  1.0  0.760417  0.673469   0.70"
      ]
     },
     "execution_count": 116,
     "metadata": {},
     "output_type": "execute_result"
    }
   ],
   "source": [
    "for i in X.columns:\n",
    "    X[i] = X[i]/np.max(X[i])\n",
    "X.head()"
   ]
  },
  {
   "cell_type": "code",
   "execution_count": 117,
   "id": "damaged-intersection",
   "metadata": {
    "ExecuteTime": {
     "end_time": "2021-09-15T17:14:40.144238Z",
     "start_time": "2021-09-15T17:14:40.139597Z"
    },
    "scrolled": false
   },
   "outputs": [
    {
     "data": {
      "text/plain": [
       "array([0, 0, 0, 0])"
      ]
     },
     "execution_count": 117,
     "metadata": {},
     "output_type": "execute_result"
    }
   ],
   "source": [
    "theta = np.array([0]*len(X.columns))"
   ]
  },
  {
   "cell_type": "code",
   "execution_count": 118,
   "id": "dated-republic",
   "metadata": {
    "ExecuteTime": {
     "end_time": "2021-09-15T17:14:41.215614Z",
     "start_time": "2021-09-15T17:14:41.211462Z"
    },
    "scrolled": false
   },
   "outputs": [
    {
     "data": {
      "text/plain": [
       "25"
      ]
     },
     "execution_count": 118,
     "metadata": {},
     "output_type": "execute_result"
    }
   ],
   "source": [
    "m = len(db)"
   ]
  },
  {
   "cell_type": "code",
   "execution_count": 119,
   "id": "favorite-traveler",
   "metadata": {
    "ExecuteTime": {
     "end_time": "2021-09-15T17:14:41.907034Z",
     "start_time": "2021-09-15T17:14:41.904084Z"
    }
   },
   "outputs": [],
   "source": [
    "def hypothesis(theta, X):\n",
    "    return theta*X"
   ]
  },
  {
   "cell_type": "code",
   "execution_count": 120,
   "id": "frequent-plane",
   "metadata": {
    "ExecuteTime": {
     "end_time": "2021-09-15T17:14:43.133526Z",
     "start_time": "2021-09-15T17:14:43.129736Z"
    }
   },
   "outputs": [],
   "source": [
    "def computeCost(X, y, theta):\n",
    "    y1 = hypothesis(theta, X)\n",
    "    y1=np.sum(y1, axis=1)\n",
    "    return sum(np.sqrt((y1-y)**2))/(2*m)"
   ]
  },
  {
   "cell_type": "code",
   "execution_count": 121,
   "id": "answering-guatemala",
   "metadata": {
    "ExecuteTime": {
     "end_time": "2021-09-15T17:14:43.678102Z",
     "start_time": "2021-09-15T17:14:43.672791Z"
    }
   },
   "outputs": [],
   "source": [
    "def gradientDescent(X, y, theta, alpha, i):\n",
    "    J = []  #cost function in each iterations\n",
    "    k = 0\n",
    "    while k < i:        \n",
    "        y1 = hypothesis(theta, X)\n",
    "        y1 = np.sum(y1, axis=1)\n",
    "        for c in range(0, len(X.columns)):\n",
    "            theta[c] = theta[c] - alpha*(sum((y1-y)*X.iloc[:,c])/len(X))\n",
    "        j = computeCost(X, y, theta)\n",
    "        J.append(j)\n",
    "        k += 1\n",
    "    return J, j, theta"
   ]
  },
  {
   "cell_type": "code",
   "execution_count": 133,
   "id": "revised-tracy",
   "metadata": {
    "ExecuteTime": {
     "end_time": "2021-09-15T17:20:35.534207Z",
     "start_time": "2021-09-15T17:20:35.144389Z"
    }
   },
   "outputs": [],
   "source": [
    "J, j, theta = gradientDescent(X, y, theta, 0.05, 100)"
   ]
  },
  {
   "cell_type": "code",
   "execution_count": 134,
   "id": "specified-communist",
   "metadata": {
    "ExecuteTime": {
     "end_time": "2021-09-15T17:20:36.604013Z",
     "start_time": "2021-09-15T17:20:36.599002Z"
    }
   },
   "outputs": [],
   "source": [
    "y_hat = hypothesis(theta, X)\n",
    "y_hat = np.sum(y_hat, axis=1)"
   ]
  },
  {
   "cell_type": "code",
   "execution_count": 135,
   "id": "proud-trust",
   "metadata": {
    "ExecuteTime": {
     "end_time": "2021-09-15T17:20:37.637102Z",
     "start_time": "2021-09-15T17:20:37.480624Z"
    },
    "scrolled": true
   },
   "outputs": [
    {
     "data": {
      "image/png": "[encoded data removed]",
      "text/plain": [
       "<Figure size 432x288 with 1 Axes>"
      ]
     },
     "metadata": {
      "needs_background": "light"
     },
     "output_type": "display_data"
    }
   ],
   "source": [
    "%matplotlib inline\n",
    "import matplotlib.pyplot as plt\n",
    "plt.figure()\n",
    "plt.scatter(x=list(range(0, m)),y= y, color='blue')         \n",
    "plt.scatter(x=list(range(0, m)), y=y_hat, color='black')\n",
    "plt.show()"
   ]
  },
  {
   "cell_type": "code",
   "execution_count": 136,
   "id": "handmade-respondent",
   "metadata": {
    "ExecuteTime": {
     "end_time": "2021-09-15T17:20:40.695484Z",
     "start_time": "2021-09-15T17:20:40.489137Z"
    },
    "scrolled": true
   },
   "outputs": [
    {
     "data": {
      "image/png": "[encoded data removed]",
      "text/plain": [
       "<Figure size 432x288 with 1 Axes>"
      ]
     },
     "metadata": {
      "needs_background": "light"
     },
     "output_type": "display_data"
    }
   ],
   "source": [
    "x = db.values[:, 0:4]\n",
    "plt.plot(x[:,1], y, \"x\")\n",
    "plt.plot(x[:,1], x * theta, \"r-\")\n",
    "plt.show()"
   ]
  },
  {
   "cell_type": "code",
   "execution_count": 137,
   "id": "entire-sweet",
   "metadata": {
    "ExecuteTime": {
     "end_time": "2021-09-15T17:20:41.477743Z",
     "start_time": "2021-09-15T17:20:41.473993Z"
    },
    "scrolled": true
   },
   "outputs": [
    {
     "name": "stdout",
     "output_type": "stream",
     "text": [
      "The parameters a, b, c, c are  [49 38 38 38]\n"
     ]
    }
   ],
   "source": [
    "print(\"The parameters a, b, c, c are \", theta)"
   ]
  },
  {
   "cell_type": "code",
   "execution_count": 138,
   "id": "retired-exemption",
   "metadata": {
    "ExecuteTime": {
     "end_time": "2021-09-15T17:20:42.262497Z",
     "start_time": "2021-09-15T17:20:42.258984Z"
    },
    "scrolled": true
   },
   "outputs": [
    {
     "name": "stdout",
     "output_type": "stream",
     "text": [
      "minimum MSE 10.294714965986394\n"
     ]
    }
   ],
   "source": [
    "print(\"minimum MSE\", j)"
   ]
  },
  {
   "cell_type": "code",
   "execution_count": 139,
   "id": "thirty-particle",
   "metadata": {
    "ExecuteTime": {
     "end_time": "2021-09-15T17:20:43.145575Z",
     "start_time": "2021-09-15T17:20:43.141969Z"
    },
    "scrolled": true
   },
   "outputs": [
    {
     "name": "stdout",
     "output_type": "stream",
     "text": [
      "MSE:  [10.294714965986394, 10.294714965986394, 10.294714965986394, 10.294714965986394, 10.294714965986394, 10.294714965986394, 10.294714965986394, 10.294714965986394, 10.294714965986394, 10.294714965986394, 10.294714965986394, 10.294714965986394, 10.294714965986394, 10.294714965986394, 10.294714965986394, 10.294714965986394, 10.294714965986394, 10.294714965986394, 10.294714965986394, 10.294714965986394, 10.294714965986394, 10.294714965986394, 10.294714965986394, 10.294714965986394, 10.294714965986394, 10.294714965986394, 10.294714965986394, 10.294714965986394, 10.294714965986394, 10.294714965986394, 10.294714965986394, 10.294714965986394, 10.294714965986394, 10.294714965986394, 10.294714965986394, 10.294714965986394, 10.294714965986394, 10.294714965986394, 10.294714965986394, 10.294714965986394, 10.294714965986394, 10.294714965986394, 10.294714965986394, 10.294714965986394, 10.294714965986394, 10.294714965986394, 10.294714965986394, 10.294714965986394, 10.294714965986394, 10.294714965986394, 10.294714965986394, 10.294714965986394, 10.294714965986394, 10.294714965986394, 10.294714965986394, 10.294714965986394, 10.294714965986394, 10.294714965986394, 10.294714965986394, 10.294714965986394, 10.294714965986394, 10.294714965986394, 10.294714965986394, 10.294714965986394, 10.294714965986394, 10.294714965986394, 10.294714965986394, 10.294714965986394, 10.294714965986394, 10.294714965986394, 10.294714965986394, 10.294714965986394, 10.294714965986394, 10.294714965986394, 10.294714965986394, 10.294714965986394, 10.294714965986394, 10.294714965986394, 10.294714965986394, 10.294714965986394, 10.294714965986394, 10.294714965986394, 10.294714965986394, 10.294714965986394, 10.294714965986394, 10.294714965986394, 10.294714965986394, 10.294714965986394, 10.294714965986394, 10.294714965986394, 10.294714965986394, 10.294714965986394, 10.294714965986394, 10.294714965986394, 10.294714965986394, 10.294714965986394, 10.294714965986394, 10.294714965986394, 10.294714965986394, 10.294714965986394]\n"
     ]
    }
   ],
   "source": [
    "print(\"MSE: \", J)"
   ]
  }
 ],
 "metadata": {
  "kernelspec": {
   "display_name": "Python (ML)",
   "language": "python",
   "name": "ml"
  },
  "language_info": {
   "codemirror_mode": {
    "name": "ipython",
    "version": 3
   },
   "file_extension": ".py",
   "mimetype": "text/x-python",
   "name": "python",
   "nbconvert_exporter": "python",
   "pygments_lexer": "ipython3",
   "version": "3.9.1"
  },
  "latex_envs": {
   "LaTeX_envs_menu_present": true,
   "autoclose": true,
   "autocomplete": true,
   "bibliofile": "biblio.bib",
   "cite_by": "apalike",
   "current_citInitial": 1,
   "eqLabelWithNumbers": true,
   "eqNumInitial": 1,
   "hotkeys": {
    "equation": "Ctrl-E",
    "itemize": "Ctrl-I"
   },
   "labels_anchors": false,
   "latex_user_defs": false,
   "report_style_numbering": false,
   "user_envs_cfg": false
  }
 },
 "nbformat": 4,
 "nbformat_minor": 5
}
